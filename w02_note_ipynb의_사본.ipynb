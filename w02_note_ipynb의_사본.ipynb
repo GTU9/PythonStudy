{
  "nbformat": 4,
  "nbformat_minor": 0,
  "metadata": {
    "colab": {
      "provenance": [],
      "include_colab_link": true
    },
    "kernelspec": {
      "name": "python3",
      "display_name": "Python 3"
    },
    "language_info": {
      "name": "python"
    }
  },
  "cells": [
    {
      "cell_type": "markdown",
      "metadata": {
        "id": "view-in-github",
        "colab_type": "text"
      },
      "source": [
        "<a href=\"https://colab.research.google.com/github/GTU9/PythonStudy/blob/main/w02_note_ipynb%EC%9D%98_%EC%82%AC%EB%B3%B8.ipynb\" target=\"_parent\"><img src=\"https://colab.research.google.com/assets/colab-badge.svg\" alt=\"Open In Colab\"/></a>"
      ]
    },
    {
      "cell_type": "markdown",
      "source": [
        "## 02. 변수, 데이터 관리"
      ],
      "metadata": {
        "id": "fWDKGOkdoT0J"
      }
    },
    {
      "cell_type": "markdown",
      "source": [
        "### 01. 문자열과 변수"
      ],
      "metadata": {
        "id": "VjLY-TtgquDx"
      }
    },
    {
      "cell_type": "markdown",
      "source": [
        "화면에 Hello World! 를 출력하시오.\n",
        "\n",
        "output:\n",
        "```\n",
        "Hello World!\n",
        "```"
      ],
      "metadata": {
        "id": "mE-xa1GWobEE"
      }
    },
    {
      "cell_type": "code",
      "execution_count": null,
      "metadata": {
        "id": "nZvFhSoTVZa9",
        "colab": {
          "base_uri": "https://localhost:8080/"
        },
        "outputId": "68e98491-5283-464b-8d49-60dc6d8a561e"
      },
      "outputs": [
        {
          "output_type": "stream",
          "name": "stdout",
          "text": [
            "Hello World\n"
          ]
        }
      ],
      "source": [
        "print(\"Hello World\");"
      ]
    },
    {
      "cell_type": "markdown",
      "source": [
        "한 줄의 코드로 다음 여러 줄의 문자열을 출력하시오.\n",
        "\n",
        "output:\n",
        "```\n",
        "Hello World!\n",
        "Hello World!\n",
        "Hello World!\n",
        "```\n",
        "\n",
        "\n",
        "\n",
        "\n",
        "\n"
      ],
      "metadata": {
        "id": "7pghorWOpwRW"
      }
    },
    {
      "cell_type": "code",
      "source": [
        "for i in range(3):\n",
        "    print(\"Hello World\")"
      ],
      "metadata": {
        "id": "jpi9PQ0Gp_K0",
        "colab": {
          "base_uri": "https://localhost:8080/"
        },
        "outputId": "66b6c5b7-d423-4c28-a376-5fdc59820c5a"
      },
      "execution_count": null,
      "outputs": [
        {
          "output_type": "stream",
          "name": "stdout",
          "text": [
            "Hello World\n",
            "Hello World\n",
            "Hello World\n"
          ]
        }
      ]
    },
    {
      "cell_type": "markdown",
      "source": [
        "다음과 같이 자신의 이름을 포함한 문자열을 출력하시오. 단 + 기호를 이용하여 각 단어를 연결하시오.\n",
        "\n",
        "output:\n",
        "```\n",
        "Hello Kurumi\n",
        "```"
      ],
      "metadata": {
        "id": "TdaQl26Mp_dt"
      }
    },
    {
      "cell_type": "code",
      "source": [
        "print(\"Hello \"+\"Kurumi\")"
      ],
      "metadata": {
        "id": "9h6VotV5qCrU",
        "colab": {
          "base_uri": "https://localhost:8080/"
        },
        "outputId": "1509c817-3697-4c3b-8f57-ca129d0182f3"
      },
      "execution_count": null,
      "outputs": [
        {
          "output_type": "stream",
          "name": "stdout",
          "text": [
            "Hello Kurumi\n"
          ]
        }
      ]
    },
    {
      "cell_type": "markdown",
      "source": [
        "이름을 입력받은 뒤, 입력받은 이름을 합친 문자열을 출력하시오.\n",
        "\n",
        "output:\n",
        "```\n",
        "이름이 무엇인가요? 쿠루미\n",
        "안녕! 쿠루미\n",
        "```"
      ],
      "metadata": {
        "id": "8mjD7JqXqDCW"
      }
    },
    {
      "cell_type": "code",
      "source": [
        "name=input(\"이름이 무엇인가요? \")\n",
        "print(\"안녕! \"+name)"
      ],
      "metadata": {
        "id": "HLMmCSQaqGOX",
        "colab": {
          "base_uri": "https://localhost:8080/"
        },
        "outputId": "b2aff622-3e47-4928-cc66-db82828f7037"
      },
      "execution_count": null,
      "outputs": [
        {
          "output_type": "stream",
          "name": "stdout",
          "text": [
            "이름이 무엇인가요? 쿠루미\n",
            "안녕! 쿠루미\n"
          ]
        }
      ]
    },
    {
      "cell_type": "markdown",
      "source": [
        "입력받은 문자열의 글자 수를 출력하시오.\n",
        "\n",
        "output:\n",
        "```\n",
        "쿠루미\n",
        "3\n",
        "```"
      ],
      "metadata": {
        "id": "M-J8-sWdqGgG"
      }
    },
    {
      "cell_type": "code",
      "source": [
        "str=input()\n",
        "print(len(str))"
      ],
      "metadata": {
        "id": "kmkNz3hOqJd1",
        "colab": {
          "base_uri": "https://localhost:8080/"
        },
        "outputId": "b1132643-cee0-4519-8b5c-4cd740ad5815"
      },
      "execution_count": null,
      "outputs": [
        {
          "output_type": "stream",
          "name": "stdout",
          "text": [
            "쿠루미\n",
            "3\n"
          ]
        }
      ]
    },
    {
      "cell_type": "markdown",
      "source": [
        "게임 캐릭터의 이름을 만들어 봅시다. 게임 캐릭터 이름은 두 개의 단어가 조합된 형태이고, 각 단어는 서로 다른 의미를 갖는 단어로 조합합니다. 예를 들어, 사는 지역(도시) 이름과 좋아하는 과자 이름을 붙여서 만들 수도 있습니다. 두 개의 단어는 각각 변수에 저장하고, + 기호를 이용하여 각 단어를 연결합니다.\n",
        "\n",
        "output:\n",
        "```\n",
        "게임 캐릭터 이름 생성기\n",
        "살고 있는 지역 이름?서울\n",
        "좋아하는 과자 이름?초코칩\n",
        "게임 캐릭터 이름은 '초코칩 서울' 입니다.\n",
        "```"
      ],
      "metadata": {
        "id": "hOjQJhFFqJxW"
      }
    },
    {
      "cell_type": "code",
      "source": [
        "print(\"게임 캐릭터 이름 생성기\")\n",
        "loc=input(\"살고 있는 지역 이름?\")\n",
        "cookie=input(\"좋아하는 과자 이름?\")\n",
        "print(\"게임 캐릭터 이름은 '\"+cookie+\" \"+loc+\"' 입니다.\")"
      ],
      "metadata": {
        "id": "sTTK52j4qNgz",
        "colab": {
          "base_uri": "https://localhost:8080/"
        },
        "outputId": "d62330c2-cfdf-4338-bfca-1b32ffcb1722"
      },
      "execution_count": null,
      "outputs": [
        {
          "output_type": "stream",
          "name": "stdout",
          "text": [
            "게임 캐릭터 이름 생성기\n",
            "살고 있는 지역 이름?서울\n",
            "좋아하는 과자 이름?초코칩\n",
            "게임 캐릭터 이름은 '초코칩 서울' 입니다.\n"
          ]
        }
      ]
    },
    {
      "cell_type": "markdown",
      "source": [
        "### 02. 데이터 타입"
      ],
      "metadata": {
        "id": "jCrBQ9KMqN2R"
      }
    },
    {
      "cell_type": "markdown",
      "source": [
        "다음 각 입력값의 데이터 타입을 확인하는 코드를 작성하시오.\n",
        "\n",
        "```\n",
        "123_456_789\n",
        "False\n",
        "3.1415\n",
        "\"123_456_789\"\n",
        "```"
      ],
      "metadata": {
        "id": "mwtV6R0AqQn4"
      }
    },
    {
      "cell_type": "code",
      "source": [
        "print(type(123_456_789))\n",
        "print(type((False)))\n",
        "print(type((3.1415)))\n",
        "print(type((\"123_456_789\")))"
      ],
      "metadata": {
        "id": "HUBGKI5CqT2w",
        "colab": {
          "base_uri": "https://localhost:8080/"
        },
        "outputId": "1ec4cdfb-824f-44aa-8371-7cdbee1f3d2d"
      },
      "execution_count": null,
      "outputs": [
        {
          "output_type": "stream",
          "name": "stdout",
          "text": [
            "<class 'int'>\n",
            "<class 'bool'>\n",
            "<class 'float'>\n",
            "<class 'str'>\n"
          ]
        }
      ]
    },
    {
      "cell_type": "markdown",
      "source": [
        "다음 코드의 결과값은 무엇일까? 코드를 직접 실행하기 전에, 정답을 생각한 뒤 코드를 실행하여 결과를 확인해 보세요.\n",
        "\n",
        "code:\n",
        "```\n",
        "name = \"Alligator Snapping Turtle\"\n",
        "print(name[4] + name[12])\n",
        "```"
      ],
      "metadata": {
        "id": "5GeqsVQqqUIc"
      }
    },
    {
      "cell_type": "code",
      "source": [
        "name = \"Alligator Snapping Turtle\"\n",
        "print(name[4] + name[12])"
      ],
      "metadata": {
        "id": "lo7HD2KXqXNc",
        "colab": {
          "base_uri": "https://localhost:8080/"
        },
        "outputId": "11b78c15-eafd-4157-9c0e-5d7b34f95971"
      },
      "execution_count": null,
      "outputs": [
        {
          "output_type": "stream",
          "name": "stdout",
          "text": [
            "ga\n"
          ]
        }
      ]
    },
    {
      "cell_type": "markdown",
      "source": [
        "길이가 긴 동물 이름을 찾아서, 동물 이름을 입력하면, 이름의 글자 수를 출력하시오.\n",
        "\n",
        "output:\n",
        "```\n",
        "동물 이름: Alligator Snapping Turtle\n",
        "글자 수는 25입니다.\n",
        "```"
      ],
      "metadata": {
        "id": "oGVvjyDfqXf4"
      }
    },
    {
      "cell_type": "code",
      "source": [
        "animalName=input(\"동물 이름: \")\n",
        "print(\"글자 수는 \",len(animalName),\"입니다.\")"
      ],
      "metadata": {
        "id": "xFe5qvxkqZau",
        "colab": {
          "base_uri": "https://localhost:8080/"
        },
        "outputId": "7a21166c-df0d-4f82-d8af-4af7cf45b294"
      },
      "execution_count": null,
      "outputs": [
        {
          "output_type": "stream",
          "name": "stdout",
          "text": [
            "동물 이름: Alligator Snapping Turtle\n",
            "글자 수는  25 입니다.\n"
          ]
        }
      ]
    },
    {
      "cell_type": "markdown",
      "source": [
        "다음 코드의 결과값은 무엇일까? 코드를 직접 실행하기 전에, 정답을 생각한 뒤, 코드를 실행하여 결과를 확인해 보세요.\n",
        "\n",
        "code:\n",
        "```\n",
        "print(5 * 5 + 5 / 5 - 5)\n",
        "```"
      ],
      "metadata": {
        "id": "nBoOqpChqZu3"
      }
    },
    {
      "cell_type": "code",
      "source": [
        "print(5 * 5 + 5 / 5 - 5)"
      ],
      "metadata": {
        "id": "MyzFhEc8qcO5",
        "colab": {
          "base_uri": "https://localhost:8080/"
        },
        "outputId": "6f76a082-ee0a-4c3e-c89d-cf91fb8618d5"
      },
      "execution_count": null,
      "outputs": [
        {
          "output_type": "stream",
          "name": "stdout",
          "text": [
            "21.0\n"
          ]
        }
      ]
    },
    {
      "cell_type": "markdown",
      "source": [
        "BMI 계산기를 만들어 봅시다.\n",
        "두 개의 숫자(키, 몸무게)를 입력받습니다.\n",
        "입력받은 값을 이용하여 bmi 를 계산합니다.\n",
        "bmi 값을 화면에 출력합니다.\n",
        "\n",
        "output:\n",
        "```\n",
        "1.80\n",
        "80\n",
        "24\n",
        "```"
      ],
      "metadata": {
        "id": "3p5YKFGiqciz"
      }
    },
    {
      "cell_type": "code",
      "source": [
        "height=float(input())\n",
        "weight=float(input())\n",
        "print(int(weight/(height*height)))"
      ],
      "metadata": {
        "id": "jE56rbcsqfRO",
        "colab": {
          "base_uri": "https://localhost:8080/"
        },
        "outputId": "7d1b5385-efef-4e24-983c-08132c31aada"
      },
      "execution_count": null,
      "outputs": [
        {
          "output_type": "stream",
          "name": "stdout",
          "text": [
            "1.80\n",
            "80\n",
            "24\n"
          ]
        }
      ]
    },
    {
      "cell_type": "markdown",
      "source": [
        "내가 앞으로 살아갈 기간은 얼마일까요? 현재 나이 값과 예상되는 수명 나이를 입력받으면 남은 기간을  주(week)로 출력하는 코드를 작성하시오.\n",
        "\n",
        "output:\n",
        "```\n",
        "90\n",
        "15\n",
        "당신은 앞으로 3900주 만큼 삶이 남았습니다.\n",
        "```"
      ],
      "metadata": {
        "id": "pg6uNTUIqfiI"
      }
    },
    {
      "cell_type": "code",
      "source": [
        "num1=int(input())\n",
        "num2=int(input())\n",
        "print(\"당신은 앞으로 \",(num1-num2)*52,\"주 만큼 삶이 남았습니다.\")"
      ],
      "metadata": {
        "id": "T9vfINMZqhtS",
        "colab": {
          "base_uri": "https://localhost:8080/"
        },
        "outputId": "a541919f-5e36-4625-ac6f-65bf7b47f4d3"
      },
      "execution_count": null,
      "outputs": [
        {
          "output_type": "stream",
          "name": "stdout",
          "text": [
            "90\n",
            "15\n",
            "당신은 앞으로  3900 주 만큼 삶이 남았습니다.\n"
          ]
        }
      ]
    },
    {
      "cell_type": "markdown",
      "source": [
        "팁 계산기를 만들어 봅시다.\n",
        "총 금액을 입력합니다. 금액은 달러로 입력하고, 소숫점 둘째자리 까지 입력합니다.\n",
        "계산할 팁의 비율을 정합니다. (10%, 12%, 15%)\n",
        "몇 명이서 나눠서 낼 것인지 입력합니다.\n",
        "각자 낼 비용을 출력합니다. 출력 결과는 소숫점 둘째자리 까지 출력합니다.\n",
        "\n",
        "output:\n",
        "```\n",
        "팁 계산기\n",
        "------------------------\n",
        "총 금액: $200.00\n",
        "팁(10, 12, 15): 15\n",
        "몇 명?: 5\n",
        "인당 금액: $46.00\n",
        "```"
      ],
      "metadata": {
        "id": "oZ6ojj34qh9F"
      }
    },
    {
      "cell_type": "code",
      "source": [
        "print(\"팁 계산기\")\n",
        "print(\"------------------------\")\n",
        "result=float(input(\"총 금액: $\"))\n",
        "tip=float(input(\"팁(10,12,15): \"))/100\n",
        "num=int(input(\"몇 명?: \"))\n",
        "print(\"인당 금액: ${:.2f}\".format(result*(1+tip)/num,5))\n"
      ],
      "metadata": {
        "id": "9yyFl5qmqlZT",
        "colab": {
          "base_uri": "https://localhost:8080/"
        },
        "outputId": "5f45abf1-f63c-4bc6-e6f9-5fb04cdb5013"
      },
      "execution_count": null,
      "outputs": [
        {
          "output_type": "stream",
          "name": "stdout",
          "text": [
            "팁 계산기\n",
            "------------------------\n",
            "총 금액: $200\n",
            "팁(10,12,15): 15\n",
            "몇 명?: 5\n",
            "인당 금액: $46.00\n"
          ]
        }
      ]
    },
    {
      "cell_type": "markdown",
      "source": [
        "## 03. 흐름 제어"
      ],
      "metadata": {
        "id": "gLmUL7egqlqQ"
      }
    },
    {
      "cell_type": "markdown",
      "source": [
        "### 01. if-else\n"
      ],
      "metadata": {
        "id": "wRjlS8T2qwlr"
      }
    },
    {
      "cell_type": "markdown",
      "source": [
        "입력 받은 값이 홀수 인지 짝수인지 알려주는 프로그램 코드를 작성하시오.\n",
        "\n",
        "output:\n",
        "```\n",
        "홀수짝수 판별 프로그램\n",
        "12\n",
        "짝수입니다.\n",
        "```"
      ],
      "metadata": {
        "id": "OJQ2n_3yq0Hq"
      }
    },
    {
      "cell_type": "code",
      "source": [
        "print(\"홀수짝수 판별 프로그램\")\n",
        "num=int(input())\n",
        "if(num%2==0):\n",
        "  print(\"짝수입니다.\")\n",
        "else:\n",
        "  print(\"홀수입니다.\")"
      ],
      "metadata": {
        "id": "6y8OZypIq35M",
        "colab": {
          "base_uri": "https://localhost:8080/"
        },
        "outputId": "6da818dd-d0a9-4c27-a46e-3cdc9adc3b69"
      },
      "execution_count": null,
      "outputs": [
        {
          "output_type": "stream",
          "name": "stdout",
          "text": [
            "홀수짝수 판별 프로그램\n",
            "12\n",
            "짝수입니다.\n"
          ]
        }
      ]
    },
    {
      "cell_type": "markdown",
      "source": [
        "놀이동산에는 키가 120cm 이상이어야 탑승할 수 있는 기구들이 있습니다. 키를 입력하며 놀이기구를 탈 수 있는지 없는지를 알려주는 프로그램 코드를 작성하시오.\n",
        "\n",
        "output:\n",
        "```\n",
        "놀이동산 탑승제한 확인 프로그램\n",
        "탑승자 키(cm): 110\n",
        "탑승 불가\n",
        "```"
      ],
      "metadata": {
        "id": "4CqxmLsiq4Mn"
      }
    },
    {
      "cell_type": "code",
      "source": [
        "print(\"놀이동산 탑승제한 확인 프로그램\")\n",
        "height=int(input(\"탑승자 키(cm): \"))\n",
        "if(height<120):\n",
        "  print(\"탑승 불가\")\n",
        "else:\n",
        "  print(\"탑승 가능\")"
      ],
      "metadata": {
        "id": "yQ7_UsIEq7Eb",
        "colab": {
          "base_uri": "https://localhost:8080/"
        },
        "outputId": "ca3104a6-5c89-4a47-bfec-814f2797c6f6"
      },
      "execution_count": null,
      "outputs": [
        {
          "output_type": "stream",
          "name": "stdout",
          "text": [
            "놀이동산 탑승제한 확인 프로그램\n",
            "탑승자 키(cm): 120\n",
            "탑승 가능\n"
          ]
        }
      ]
    },
    {
      "cell_type": "markdown",
      "source": [
        "### 02. 중첩 if문"
      ],
      "metadata": {
        "id": "qZKxH37wq7UX"
      }
    },
    {
      "cell_type": "markdown",
      "source": [
        "놀이동산에서 일부 기구는 키가 120cm 가 되지 않아도 부모가 같이 탑승한다면 탑승할 수 있는 기구가 있습니다. 단, 부모가 동승할 경우에도 키가 100cm 이상은 되어야 합니다. 이 조건에 따라 놀이기구를 탑승할 수 있는지 없는지를 알려주는 프로그램 코드를 작성하시오.\n",
        "\n",
        "output:\n",
        "```\n",
        "놀이동산 탑승제한 확인 프로그램\n",
        "탑승자 키(cm): 120\n",
        "탑승 가능\n",
        "````\n"
      ],
      "metadata": {
        "id": "qdlkZzdbq-EZ"
      }
    },
    {
      "cell_type": "code",
      "source": [
        "print(\"놀이동산 탑승제한 확인 프로그램\")\n",
        "height=int(input(\"탑승자 키(cm): \"))\n",
        "if(height>=120):\n",
        "  print(\"탑승 가능\")\n",
        "else:\n",
        "  check=input(\"동승자 여부(Y/N): \")\n",
        "  if(check=='Y'):\n",
        "    print(\"탑승 가능\")\n",
        "  else:\n",
        "    print(\"탑승 불가\")\n",
        "\n"
      ],
      "metadata": {
        "id": "iwvbrj7VrDNf",
        "colab": {
          "base_uri": "https://localhost:8080/"
        },
        "outputId": "271bd37a-3001-4b1d-b7bd-348e37975e77"
      },
      "execution_count": null,
      "outputs": [
        {
          "output_type": "stream",
          "name": "stdout",
          "text": [
            "놀이동산 탑승제한 확인 프로그램\n",
            "탑승자 키(cm): 110\n",
            "동승자 여부(Y/N): Y\n",
            "탑승 가능\n"
          ]
        }
      ]
    },
    {
      "cell_type": "markdown",
      "source": [
        "### 03. if-elif-else"
      ],
      "metadata": {
        "id": "3AUm1DfdrDev"
      }
    },
    {
      "cell_type": "markdown",
      "source": [
        "BMI 계산 프로그램을 확장해 봅시다. bmi 결과 값에 따라 건강 상태를 알려줍니다. 기준은 다음과 같습니다.\n",
        "\n",
        "[bmi 기준](https://health.seoulmc.or.kr/healthCareInfo/myBMIPopup.do)\n",
        "\n",
        "* 키(m)와 체중(kg)을 입력합니다.\n",
        "* bmi 값과 결과를 출력합니다. bmi 값은 소숫점 둘째자리까지 출력합니다.\n",
        "\n",
        "output:\n",
        "```\n",
        "bmi 프로그램\n",
        "키(m): 1.8\n",
        "몸무게(kg): 80\n",
        "당신의 bmi는 24.69 이고, 과체중 입니다.\n",
        "```"
      ],
      "metadata": {
        "id": "mYfL0hdxrGmt"
      }
    },
    {
      "cell_type": "code",
      "source": [
        "print(\"bmi 프로그램\")\n",
        "height=float(input(\"키(m): \"))\n",
        "weight=float(input(\"몸무게(kg): \"))\n",
        "bmi=(weight/(height*height))\n",
        "if(bmi>25):\n",
        "  print(\"당신의 bmi는 {:.2f} \".format(bmi),\"이고, 비만 입니다.\")\n",
        "elif(bmi>23):\n",
        "  print(\"당신의 bmi는 {:.2f} \".format(bmi),\"이고, 과체중 입니다.\")\n",
        "elif(bmi>18.5):\n",
        "  print(\"당신의 bmi는 {:.2f} \".format(bmi),\"이고, 정상 입니다.\")\n",
        "else:\n",
        "  print(\"당신의 bmi는 {:.2f} \".format(bmi),\"이고, 과체중 입니다.\")"
      ],
      "metadata": {
        "id": "F0WX2s8qrkCM",
        "colab": {
          "base_uri": "https://localhost:8080/"
        },
        "outputId": "1c6e9c37-5d0f-4784-9e4f-df8be203686b"
      },
      "execution_count": null,
      "outputs": [
        {
          "output_type": "stream",
          "name": "stdout",
          "text": [
            "bmi 프로그램\n",
            "키(m): 1.8\n",
            "몸무게(kg): 80\n",
            "당신의 bmi는 24.69  이고, 과체중 입니다.\n"
          ]
        }
      ]
    },
    {
      "cell_type": "markdown",
      "source": [
        "## 04. 반복문"
      ],
      "metadata": {
        "id": "iAW-z8zUrkSi"
      }
    },
    {
      "cell_type": "markdown",
      "source": [
        "### 01. random"
      ],
      "metadata": {
        "id": "DiQjB_V3rmlX"
      }
    },
    {
      "cell_type": "markdown",
      "source": [
        "1부터 10 중에서 정수 하나를 출력하는 코드를 작성하시오.\n",
        "\n",
        "output:\n",
        "```\n",
        "3\n",
        "```"
      ],
      "metadata": {
        "id": "Beaf8w5oroG5"
      }
    },
    {
      "cell_type": "code",
      "source": [
        "import random\n",
        "random.randint(1,10)"
      ],
      "metadata": {
        "id": "Jgb8bZUJrqQh",
        "colab": {
          "base_uri": "https://localhost:8080/"
        },
        "outputId": "9f03d83b-9da4-4635-9255-bd41ec3a4914"
      },
      "execution_count": null,
      "outputs": [
        {
          "output_type": "execute_result",
          "data": {
            "text/plain": [
              "2"
            ]
          },
          "metadata": {},
          "execution_count": 123
        }
      ]
    },
    {
      "cell_type": "markdown",
      "source": [
        "0.0000… 부터 0.99999… 중 하나를 출력하는 부동 소수점 난수 생성 코드를 작성하시오.\n",
        "\n",
        "output:\n",
        "```\n",
        "0.9728720776969032\n",
        "```"
      ],
      "metadata": {
        "id": "gDE7f5PsrqgJ"
      }
    },
    {
      "cell_type": "code",
      "source": [
        "import random\n",
        "random.random()"
      ],
      "metadata": {
        "id": "aHcYfo8drstr",
        "colab": {
          "base_uri": "https://localhost:8080/"
        },
        "outputId": "e00c9bc9-7b96-418f-d9ce-83b0c7d9896d"
      },
      "execution_count": null,
      "outputs": [
        {
          "output_type": "execute_result",
          "data": {
            "text/plain": [
              "0.5309038868358922"
            ]
          },
          "metadata": {},
          "execution_count": 86
        }
      ]
    },
    {
      "cell_type": "markdown",
      "source": [
        "0.0000… 부터 3.99999… 중 하나를 출력하는 부동 소수점 난수 생성 코드를 작성하시오.\n",
        "\n",
        "output:\n",
        "```\n",
        "2.0620841052417926\n",
        "```"
      ],
      "metadata": {
        "id": "aditQ2cwrs9v"
      }
    },
    {
      "cell_type": "code",
      "source": [
        "import random\n",
        "random.uniform(0,4)"
      ],
      "metadata": {
        "id": "UwBhAR5urvFU",
        "colab": {
          "base_uri": "https://localhost:8080/"
        },
        "outputId": "220d46fb-763c-4497-99a8-b301cf248f0e"
      },
      "execution_count": null,
      "outputs": [
        {
          "output_type": "execute_result",
          "data": {
            "text/plain": [
              "0.26786770220734857"
            ]
          },
          "metadata": {},
          "execution_count": 98
        }
      ]
    },
    {
      "cell_type": "markdown",
      "source": [
        "동전 던지기 프로그램을 만들어 봅시다. random 모듈을 이용하여 1이면 앞면, 0이면 뒷면이 나온것으로 출력합니다.\n",
        "\n",
        "output:\n",
        "```\n",
        "앞면\n",
        "```"
      ],
      "metadata": {
        "id": "V-rP89WmrvV4"
      }
    },
    {
      "cell_type": "code",
      "source": [
        "import random\n",
        "if(random.random()>0.5):\n",
        "  print(\"앞면\")\n",
        "else:\n",
        "  print(\"뒷면\")"
      ],
      "metadata": {
        "id": "7SsoAPmbrxWB",
        "colab": {
          "base_uri": "https://localhost:8080/"
        },
        "outputId": "dd751378-635c-4c4b-ad46-85ec72e2167f"
      },
      "execution_count": null,
      "outputs": [
        {
          "output_type": "stream",
          "name": "stdout",
          "text": [
            "뒷면\n"
          ]
        }
      ]
    },
    {
      "cell_type": "markdown",
      "source": [
        "### 02. list"
      ],
      "metadata": {
        "id": "0Tjkx4ADrxht"
      }
    },
    {
      "cell_type": "markdown",
      "source": [
        "우리나라에서 사람들이 가장 많이 살고 있는 행정 구역은 어디일까요? 또는 가장 적은 구역은 어디일까요? 다음과 같이 리스트에 인구수가 많은 순서대로 저장된 리스트를 이용하여 인구 수가 가장 많은 지역, 가장 적은 지역, 8번째로 많은 지역을 순서대로 출력하는 코드를 작성하시오.\n",
        "\n",
        "```\n",
        "states_of_korea = [\"경기도\", \"서울\", \"부산\", \"경상남도\", \"인천\", \"경상북도\", \"대구\", \"충청남도\", \"전라남도\", \"전라북도\", \"충청북도\", \"강원도\", \"대전\", \"광주\", \"울산\", \"제주\", \"세종\"]\n",
        "```\n",
        "\n",
        "output:\n",
        "```\n",
        "경기도\n",
        "충청남도\n",
        "세종\n",
        "```"
      ],
      "metadata": {
        "id": "HxIF0-IVrzdJ"
      }
    },
    {
      "cell_type": "code",
      "source": [
        "states_of_korea = [\"경기도\", \"서울\", \"부산\", \"경상남도\", \"인천\", \"경상북도\", \"대구\", \"충청남도\", \"전라남도\", \"전라북도\", \"충청북도\", \"강원도\", \"대전\", \"광주\", \"울산\", \"제주\", \"세종\"]\n",
        "print(states_of_korea[0])\n",
        "print(states_of_korea[7])\n",
        "print(states_of_korea[len(states_of_korea)-1])\n"
      ],
      "metadata": {
        "id": "dq9IBmRXr23L",
        "colab": {
          "base_uri": "https://localhost:8080/"
        },
        "outputId": "f972578e-c106-4ecd-f7c1-88d4282beb60"
      },
      "execution_count": null,
      "outputs": [
        {
          "output_type": "stream",
          "name": "stdout",
          "text": [
            "경기도\n",
            "충청남도\n",
            "세종\n"
          ]
        }
      ]
    },
    {
      "cell_type": "markdown",
      "source": [
        "5명의 친구들 중에서 누가 점심 값을 계산해야 하는지 결정하는 프로그램을 만들어 봅시다.\n",
        "5명의 이름을 00, 00, 00, 00, 00 으로 입력받아서 list 에 저장합니다.\n",
        "5명 중 한 명의 이름을 랜덤으로 선택하여 출력합니다.\n",
        "\n",
        "output:\n",
        "```\n",
        "명수,재석,준하,홍철,동훈\n",
        "명수(이)가 오늘 점심을 쏜다!\n",
        "```"
      ],
      "metadata": {
        "id": "uN4_uA71r3Kr"
      }
    },
    {
      "cell_type": "code",
      "source": [
        "import random\n",
        "nameList=list(input().split(','))\n",
        "print(nameList[random.randint(0,4)]+\"(이)가 오늘 점심을 쏜다!\")"
      ],
      "metadata": {
        "id": "mDaFiwiNr5LN",
        "colab": {
          "base_uri": "https://localhost:8080/"
        },
        "outputId": "67b7a94e-50d5-45f2-a801-eeebe5e7cdbe"
      },
      "execution_count": null,
      "outputs": [
        {
          "output_type": "stream",
          "name": "stdout",
          "text": [
            "명수,재석,준하,홍철,동훈\n",
            "홍철(이)가 오늘 점심을 쏜다!\n"
          ]
        }
      ]
    },
    {
      "cell_type": "markdown",
      "source": [
        "간단한 가위바위보 게임을 만들어 봅시다.\n",
        "사용자가 가위(0), 바위(1), 보(2) 중 하나를 선택하면, 컴퓨터는 랜덤으로 셋 중 하나를 고르고, 승패를 알려줍니다.\n",
        "\n",
        "아스키 아트:\n",
        "```\n",
        "scissors = '''\n",
        "\t_______\n",
        "---'   ____)____\n",
        "\t\t  ______)\n",
        "\t   __________)\n",
        "\t  (____)\n",
        "---.__(___)\n",
        "'''\n",
        "\n",
        "rock = '''\n",
        "\t_______\n",
        "---'   ____)\n",
        "\t  (_____)\n",
        "\t  (_____)\n",
        "\t  (____)\n",
        "---.__(___)\n",
        "'''\n",
        "\n",
        "paper = '''\n",
        "\t_______\n",
        "---'   ____)____\n",
        "\t\t  ______)\n",
        "\t\t  _______)\n",
        "\t\t _______)\n",
        "---.__________)\n",
        "'''\n",
        "```\n",
        "output:\n",
        "```\n",
        "가위(0), 바위(1), 보(2) 중 하나를 고르시오.2\n",
        "당신의 선택:\n",
        "\n",
        "    _______\n",
        "---'   ____)____\n",
        "          ______)\n",
        "          _______)\n",
        "         _______)\n",
        "---.__________)\n",
        "\n",
        "컴퓨터의 선택:\n",
        "\n",
        "    _______\n",
        "---'   ____)\n",
        "      (_____)\n",
        "      (_____)\n",
        "      (____)\n",
        "---.__(___)\n",
        "\n",
        "당신은 이겼습니다.\n",
        "```"
      ],
      "metadata": {
        "id": "VNdXNA6hr5hn"
      }
    },
    {
      "cell_type": "code",
      "source": [
        "scissors = '''\n",
        "    _______\n",
        "---'   ____)____\n",
        "          ______)\n",
        "       __________)\n",
        "      (____)\n",
        "---.__(___)\n",
        "'''\n",
        "\n",
        "rock = '''\n",
        "    _______\n",
        "---'   ____)\n",
        "      (_____)\n",
        "      (_____)\n",
        "      (____)\n",
        "---.__(___)\n",
        "'''\n",
        "\n",
        "paper = '''\n",
        "    _______\n",
        "---'   ____)____\n",
        "          ______)\n",
        "          _______)\n",
        "         _______)\n",
        "---.__________)\n",
        "'''\n",
        "\n",
        "import random\n",
        "\n",
        "game=[scissors,rock,paper]\n",
        "userChoice=int(input(\"가위(0), 바위(1), 보(2) 중 하나를 고르시오.\"))\n",
        "print(\"당신의 선택\"+game[userChoice])\n",
        "comChoice=random.randint(0,2)\n",
        "print(\"\\n컴퓨터의 선택\"+game[comChoice])\n",
        "\n",
        "if(userChoice<comChoice or comChoice==0 and userChoice==2):\n",
        "  print(\"당신은 졌습니다.\")\n",
        "elif(userChoice==comChoice):\n",
        "  print(\"당신은 비겼습니다.\")\n",
        "else:\n",
        "  print(\"당신은 이겼습니다.\")\n"
      ],
      "metadata": {
        "id": "Vczb4ecksIMa",
        "colab": {
          "base_uri": "https://localhost:8080/"
        },
        "outputId": "6d469073-16c8-4763-d8c2-dc24830c2cef"
      },
      "execution_count": null,
      "outputs": [
        {
          "output_type": "stream",
          "name": "stdout",
          "text": [
            "가위(0), 바위(1), 보(2) 중 하나를 고르시오.2\n",
            "당신의 선택\n",
            "    _______\n",
            "---'   ____)____\n",
            "          ______)\n",
            "          _______)\n",
            "         _______)\n",
            "---.__________)\n",
            "\n",
            "\n",
            "컴퓨터의 선택\n",
            "    _______\n",
            "---'   ____)____\n",
            "          ______)\n",
            "       __________)\n",
            "      (____)\n",
            "---.__(___)\n",
            "\n",
            "당신은 졌습니다.\n"
          ]
        }
      ]
    },
    {
      "cell_type": "markdown",
      "source": [
        "### 03. for loop"
      ],
      "metadata": {
        "id": "qqhDOItVsC4O"
      }
    },
    {
      "cell_type": "markdown",
      "source": [
        "하나의 리스트에 10개의 랜덤 값을 저장하는 코드를 for 문으로 작성하시오. 랜덤 값의 범위는 0부터 100 사이입니다.\n",
        "\n",
        "output:\n",
        "```\n",
        "[52, 42, 29, 34, 84, 20, 69, 77, 23, 26]\n",
        "```"
      ],
      "metadata": {
        "id": "nFXhTFRUsFV1"
      }
    },
    {
      "cell_type": "code",
      "source": [
        "import random\n",
        "numList=[]\n",
        "for i in range(10):\n",
        "  numList.append(random.randint(1,99))\n",
        "print(numList)"
      ],
      "metadata": {
        "id": "EvnkSpCksIrr",
        "colab": {
          "base_uri": "https://localhost:8080/"
        },
        "outputId": "b2789469-2e41-4cf8-fc22-58c89dd495c6"
      },
      "execution_count": null,
      "outputs": [
        {
          "output_type": "stream",
          "name": "stdout",
          "text": [
            "[86, 78, 44, 57, 96, 81, 63, 90, 96, 81]\n"
          ]
        }
      ]
    },
    {
      "cell_type": "markdown",
      "source": [
        "다음 리스트에 저장된 숫자 중에서 가장 큰 값을 고르시오. 단, max() 를 사용하지 말고 for 문을 이용하시오.\n",
        "\n",
        "output:\n",
        "```\n",
        "[0, 64, 34, 29, 15, 13, 13, 58, 76, 33]\n",
        "가장 큰 값은 76 입니다.\n",
        "```"
      ],
      "metadata": {
        "id": "nYIEKDeqsI_y"
      }
    },
    {
      "cell_type": "code",
      "source": [
        "numList=[0, 64, 34, 29, 15, 13, 13, 58, 76, 33]\n",
        "max=0\n",
        "for i in range(len(numList)):\n",
        "  if(numList[i]>max):\n",
        "    max=numList[i]\n",
        "print(\"가장 큰 값은\",max,\"입니다.\")"
      ],
      "metadata": {
        "id": "IEMpKytasLAf",
        "colab": {
          "base_uri": "https://localhost:8080/"
        },
        "outputId": "6a24c514-8609-44c1-fbb5-e48fdd334ec1"
      },
      "execution_count": 2,
      "outputs": [
        {
          "output_type": "stream",
          "name": "stdout",
          "text": [
            "가장 큰 값은 76 입니다.\n"
          ]
        }
      ]
    },
    {
      "cell_type": "markdown",
      "source": [
        "FizzBuzz 게임을 만들어 봅시다. 규칙은 다음과 같습니다. 1부터 시작하여 20까지 진행하는 코드를 만들어 봅시다.\n",
        "\n",
        "* 1부터 시작하여 숫자를 순서대로 출력합니다.\n",
        "* 숫자가 3으로 나누어떨어지면 \"Fizz\"를 출력합니다.\n",
        "* 숫자가 5로 나누어떨어지면 \"Buzz\"를 출력합니다.\n",
        "* 숫자가 3과 5 모두로 나누어떨어지면 \"FizzBuzz\"를 출력합니다.\n",
        "* 그 외의 경우는 숫자 자체를 출력합니다.\n",
        "\n",
        "output:\n",
        "```\n",
        "1\n",
        "2\n",
        "Fizz\n",
        "4\n",
        "Buzz\n",
        "Fizz\n",
        "7\n",
        "8\n",
        "Fizz\n",
        "Buzz\n",
        "11\n",
        "Fizz\n",
        "13\n",
        "14\n",
        "FizzBuzz\n",
        "16\n",
        "17\n",
        "Fizz\n",
        "19\n",
        "Buzz\n",
        "```"
      ],
      "metadata": {
        "id": "R0oEH0LasLSC"
      }
    },
    {
      "cell_type": "code",
      "source": [
        "for i in range(1,21):\n",
        "  if(i%3==0 and i%5==0):\n",
        "    print(\"FizzBuzz\")\n",
        "  elif(i%3==0):\n",
        "    print(\"Fizz\")\n",
        "  elif(i%5==0):\n",
        "    print(\"Buzz\")\n",
        "  else:\n",
        "    print(i)"
      ],
      "metadata": {
        "id": "nLPOeUJ5sTB6",
        "colab": {
          "base_uri": "https://localhost:8080/"
        },
        "outputId": "6fe6d70b-2a1c-4634-d48b-e250c80b5e9b"
      },
      "execution_count": 4,
      "outputs": [
        {
          "output_type": "stream",
          "name": "stdout",
          "text": [
            "1\n",
            "2\n",
            "Fizz\n",
            "4\n",
            "Buzz\n",
            "Fizz\n",
            "7\n",
            "8\n",
            "Fizz\n",
            "Buzz\n",
            "11\n",
            "Fizz\n",
            "13\n",
            "14\n",
            "FizzBuzz\n",
            "16\n",
            "17\n",
            "Fizz\n",
            "19\n",
            "Buzz\n"
          ]
        }
      ]
    },
    {
      "cell_type": "markdown",
      "source": [
        "비밀번호 생성기를 만들어 봅시다. 비밀번호는 다음과 같은 규칙으로 만듭니다.\n",
        "글자는 몇 개 넣을 건지 입력합니다.\n",
        "기호는 몇 개 넣을 건지 입력합니다.\n",
        "숫자는 몇 개 넣을 건지 입력합니다.\n",
        "글자는 영어 알파벳 대소문자를 사용합니다.\n",
        "기호는 !, #, $, %, &, (, ), *, + 을 사용합니다.\n",
        "숫자는 0부터 9까지 사용합니다.\n",
        "\n",
        "// 글자, 기호, 숫자 순서로 비밀번호 만들기\n",
        "output:\n",
        "```\n",
        "비밀번호에 사용할 글자수: 4\n",
        "비밀번호에 사용할 기호수: 2\n",
        "비밀번호에 사용할 숫자수: 2\n",
        "생성한 비밀번호는 Jxwu%#18 입니다.\n",
        "```"
      ],
      "metadata": {
        "id": "sMqW3in2sTmG"
      }
    },
    {
      "cell_type": "code",
      "source": [],
      "metadata": {
        "id": "vRrF-B_NsVuG"
      },
      "execution_count": null,
      "outputs": []
    },
    {
      "cell_type": "markdown",
      "source": [
        "// 글자, 기호, 숫자의 위치가 랜덤하게 표시되는 비밀번호 만들기\n",
        "output:\n",
        "```\n",
        "비밀번호에 사용할 글자수: 4\n",
        "비밀번호에 사용할 기호수: 2\n",
        "비밀번호에 사용할 숫자수: 2\n",
        "생성한 비밀번호는 WyE26&W( 입니다.\n",
        "```"
      ],
      "metadata": {
        "id": "vzINbztjsV-P"
      }
    },
    {
      "cell_type": "code",
      "source": [],
      "metadata": {
        "id": "t_mqJ9O_sdQO"
      },
      "execution_count": null,
      "outputs": []
    },
    {
      "cell_type": "markdown",
      "source": [
        "## 05. 실습 과제"
      ],
      "metadata": {
        "id": "__vlcu28sfFS"
      }
    },
    {
      "cell_type": "markdown",
      "source": [
        "간단한 텍스트 어드벤처 게임을 만들어 봅시다. 5개 이상의 질문을 만들고, 각 질문의 답변에 따라 다음 단계로 또는 게임 오버가 되도록 만들어 봅시다.\n",
        "\n",
        "다음 사례를 참고해 보세요.\n",
        "* [단어로만 진행하는 어드벤처 게임 ‘ORD’ : 네이버 포스트](https://m.post.naver.com/viewer/postView.naver?volumeNo=32992035&memberNo=49631020)\n",
        "* [[11월 신작 게임 추천] 미래 우주 SF 판타지 텍스트 어드벤처 게임 '_전언:' (_message:) 플레이. 나폴리탄 (규칙괴담) 공포 시뮬레이션 게임 (국산 무료 인디게임)](https://youtu.be/96UP0WAvfak?si=GHnLlpgReuWa_PoP)\n",
        "\n",
        "다음 코드가 포함되도록 만들어 보세요.\n",
        "if-else 또는 if-elif-else\n",
        "for\n",
        "random\n",
        "list\n",
        "\n",
        "작성한 코드와 실행 결과는 다음 실습 과제 문서에 작성해 주세요.\n",
        "실습 과제 문서 : [w01-exercise](https://docs.google.com/presentation/d/1UphXjPB2u9PUbFpvRXgJlQO2Ttxuc3g9laQaR_4Ak4w/edit?usp=sharing)"
      ],
      "metadata": {
        "id": "eydD87GcsgzF"
      }
    },
    {
      "cell_type": "code",
      "source": [
        "import random\n",
        "\n",
        "health=100\n",
        "stamina=100\n",
        "playerStatus=[health,stamina]\n",
        "\n",
        "def notEnough():\n",
        "  if(playerStatus[0]<=0 or playerStatus[1]<=0):\n",
        "    print(\"체력또는 스테미너가 0 이하가 되어 사망하셨습니다.\")\n",
        "    print(\"Game Over\")\n",
        "    exit()\n",
        "\n",
        "def gameOver():\n",
        "  print(\"Game Over\")\n",
        "  exit()\n",
        "\n",
        "def showStatus():\n",
        "  print(\"############################\")\n",
        "  print(\"#현재 체력 : \",playerStatus[0],\"#######\")\n",
        "  print(\"#현재 스태미너 : \",playerStatus[1],\"###\")\n",
        "  print(\"############################\")\n",
        "\n",
        "def eventMeetBear():\n",
        "  print(\"당신은 무인도를 돌아다니던 중 곰을 만났다. 어떻게 행동해야할까?\")\n",
        "  print(\"1. 나무를 타고 오른다.\")\n",
        "  print(\"2. 곰에게 죽기살기로 맞선다.\")\n",
        "  print(\"3. 죽은척을 한다.\")\n",
        "  action=int(input(\"당신의 선택은? : \"))\n",
        "  if(action==1):\n",
        "    print(\"사실 곰은 나무를 굉장히 잘타는 동물이다.\")\n",
        "    print(\"당신은 곰의 저녁식사가 되었다.\")\n",
        "    gameOver()\n",
        "  if(action==2):\n",
        "    if(random.randint(1,3)==1):\n",
        "      print(\"당신은 기적으로 곰을 죽였다.\")\n",
        "      print(\"체력이 30 줄었다.\")\n",
        "      playerStatus[0]-=60\n",
        "    else:\n",
        "      print(\"당신은 곰의 저녁식사가 되었다.\")\n",
        "      gameOver()\n",
        "  else:\n",
        "    print(\"곰은 당신을 지나쳐갔다.\")\n",
        "    print(\"스태미너가 50 줄었다.\")\n",
        "    playerStatus[1]-=50\n",
        "\n",
        "def eventEatFish():\n",
        "  print(\"오늘 연어와 장어를 낚시로 잡았다.\")\n",
        "  print(\"하지만 당신은 보관 기술이 없어 두 생선중 하나만 선택해서 먹어야한다.\")\n",
        "  print(\"1. 오늘 연어를 먹는다.(체력+30)\")\n",
        "  print(\"2. 오늘 장어를 먹는다.(스태미너+30)\")\n",
        "  action=int(input(\"당신의 선택은? : \"))\n",
        "  if(action==1):\n",
        "    print(\"당신은 오늘 연어를 먹었다.\")\n",
        "    print(\"체력이 30 늘었다.\")\n",
        "    playerStatus[0]+=30\n",
        "  else:\n",
        "    print(\"당신은 오늘 장어를 먹었다.\")\n",
        "    print(\"스태미너가 30 늘었다.\")\n",
        "    playerStatus[1]+=30\n",
        "\n",
        "def eventMeetWolf():\n",
        "  print(\"당신은 무인도를 돌아다니던중 늑대 한마리를 만났다.\")\n",
        "  print(\"충분히 늑대 한마리는 상대가 가능하다. 하지만 다칠 각오를 해야한다.\")\n",
        "  print(\"1.늑대에게 맞선다. (체력-30)\")\n",
        "  print(\"2.전력질주로 도망친다. (스태미너-40)\")\n",
        "  action=int(input(\"당신의 선택은? : \"))\n",
        "  if(action==1):\n",
        "    print(\"당신은 늑대에게서 승리했지만 다치고 말았다.\")\n",
        "    print(\"체력이 30 줄었다.\")\n",
        "    playerStatus[0]-=30\n",
        "  else:\n",
        "    print(\"당신은 늑대에게서 도망쳤다.\")\n",
        "    print(\"스태미너가 40 줄었다.\")\n",
        "    playerStatus[1]-=40\n",
        "\n",
        "def eventEscape():\n",
        "  print(\"구조선이 보인다. 하지만 구조선이 생각보다 너무 낡고 모르는 외국인들이 보인다.\")\n",
        "  print(\"1. 나를 구조해주러 온 선원들인거 같다 뛰어라!\")\n",
        "  print(\"2. 무언가 수상하다 숨어있자\")\n",
        "  action=int(input(\"당신의 선택은? : \"))\n",
        "  if(action==1):\n",
        "    print(\"알고 보니 해적들이었다. 당신은 평생을 해적들의 노예로 살다 생을 마감했다.\")\n",
        "    gameOver()\n",
        "  else:\n",
        "    print(\"총을 든 해적들이었다. 다행이다. 살아남았다.\")\n",
        "\n",
        "def eventMedicine() :\n",
        "  print(\"기력이 바닥 나버린 당신은 무인도를 걷던중 모래사장에 박혀있던 단약 3알을 발견했다.\")\n",
        "  print(\"단약은 체력과 스태미너를 회복시켜 주지만 유통기한이 지나면 반대로 해가 된다.\")\n",
        "  for i in range(3):\n",
        "    print(\"1. 단약을 먹는다. 50퍼센트 확률로 체력과 스테미너를 20 회복한지만 반대로 체력이 20 줄어들수 있다.\")\n",
        "    print(\"2. 단약을 바닥에 버린다.\")\n",
        "    action=int(input(\"당신의 선택은? : \"))\n",
        "    if(action==1):\n",
        "      if(random.randint(1,2)==1):\n",
        "        print(\"당신이 먹은 단약은 괜찮은 단약이었다!\")\n",
        "        print(\"체력이 20 늘었다.\")\n",
        "        print(\"스태미너가 20 늘었다.\")\n",
        "        playerStatus[0]+=20\n",
        "        playerStatus[1]+=20\n",
        "        print()\n",
        "        showStatus()\n",
        "      else:\n",
        "        print(\"당신이 먹은 단약은 유통기한이 지난 단약이었다\")\n",
        "        print(\"현재 체력이 20 줄었다.\")\n",
        "        playerStatus[0]-=20\n",
        "        print()\n",
        "        showStatus()\n",
        "    else:\n",
        "      print(\"단약을 바닥에 버린다.\")\n",
        "      break;\n",
        "\n",
        "def play():\n",
        "  print(\"1일차\")\n",
        "  print(\"------------------------------------------------------------------------\")\n",
        "  showStatus()\n",
        "  print()\n",
        "  eventMeetWolf()\n",
        "  print()\n",
        "  showStatus()\n",
        "  notEnough()\n",
        "  print()\n",
        "  print()\n",
        "  print(\"2일차\")\n",
        "  print(\"------------------------------------------------------------------------\")\n",
        "  eventMedicine()\n",
        "  print()\n",
        "  showStatus()\n",
        "  print()\n",
        "  notEnough()\n",
        "  print()\n",
        "  print()\n",
        "  print(\"3일차\")\n",
        "  print(\"------------------------------------------------------------------------\")\n",
        "  eventEatFish()\n",
        "  print()\n",
        "  showStatus()\n",
        "  print()\n",
        "  notEnough()\n",
        "  print()\n",
        "  print()\n",
        "  print(\"4일차\")\n",
        "  print(\"------------------------------------------------------------------------\")\n",
        "  eventMeetBear()\n",
        "  print()\n",
        "  showStatus()\n",
        "  print()\n",
        "  notEnough()\n",
        "  print()\n",
        "  print()\n",
        "  print(\"5일차\")\n",
        "  print(\"------------------------------------------------------------------------\")\n",
        "  eventEscape()\n",
        "  print()\n",
        "  showStatus()\n",
        "  print()\n",
        "  notEnough()\n",
        "  print()\n",
        "  print()\n",
        "  print(\"------------------------------------------------------------------------\")\n",
        "  print(\"축하합니다. 당신은 헬기를 타고 탈출하셨습니다.\")\n",
        "  showStatus()\n",
        "\n",
        "print(\"당신은 지금 무인도에 떨어졌다.\")\n",
        "print(\"간신히 연락이 닿아 구조선이 온다고 했지만, 5일이 걸린다고 한다.\")\n",
        "print(\"5일동안 무인도에서 살아남아라\")\n",
        "print(\"체력과 스태미너중 하나라도 0 밑으로 내려간다면 당신은 사망하고 GameOver된다.\")\n",
        "\n",
        "play()\n",
        "\n"
      ],
      "metadata": {
        "colab": {
          "base_uri": "https://localhost:8080/"
        },
        "id": "GJkumvT6Y85u",
        "outputId": "4e32e67f-78b5-460d-d5f9-41847baf0ee1"
      },
      "execution_count": null,
      "outputs": [
        {
          "output_type": "stream",
          "name": "stdout",
          "text": [
            "당신은 지금 무인도에 떨어졌다.\n",
            "간신히 연락이 닿아 구조선이 온다고 했지만, 5일이 걸린다고 한다.\n",
            "5일동안 무인도에서 살아남아라\n",
            "체력과 스태미너중 하나라도 0 밑으로 내려간다면 당신은 사망하고 GameOver된다.\n",
            "1일차\n",
            "------------------------------------------------------------------------\n",
            "############################\n",
            "#현재 체력 :  100 #######\n",
            "#현재 스태미너 :  100 ###\n",
            "############################\n",
            "\n",
            "당신은 무인도를 돌아다니던중 늑대 한마리를 만났다.\n",
            "충분히 늑대 한마리는 상대가 가능하다. 하지만 다칠 각오를 해야한다.\n",
            "1.늑대에게 맞선다. (체력-30)\n",
            "2.전력질주로 도망친다. (스태미너-40)\n",
            "당신의 선택은? : 2\n",
            "당신은 늑대에게서 도망쳤다.\n",
            "스태미너가 40 줄었다.\n",
            "\n",
            "############################\n",
            "#현재 체력 :  100 #######\n",
            "#현재 스태미너 :  60 ###\n",
            "############################\n",
            "\n",
            "\n",
            "2일차\n",
            "------------------------------------------------------------------------\n",
            "기력이 바닥 나버린 당신은 무인도를 걷던중 모래사장에 박혀있던 단약 3알을 발견했다.\n",
            "단약은 체력과 스태미너를 회복시켜 주지만 유통기한이 지나면 반대로 해가 된다.\n",
            "1. 단약을 먹는다. 50퍼센트 확률로 체력과 스테미너를 20 회복한지만 반대로 체력이 20 줄어들수 있다.\n",
            "2. 단약을 바닥에 버린다.\n",
            "당신의 선택은? : 1\n",
            "당신이 먹은 단약은 유통기한이 지난 단약이었다\n",
            "현재 체력이 20 줄었다.\n",
            "\n",
            "############################\n",
            "#현재 체력 :  80 #######\n",
            "#현재 스태미너 :  60 ###\n",
            "############################\n",
            "1. 단약을 먹는다. 50퍼센트 확률로 체력과 스테미너를 20 회복한지만 반대로 체력이 20 줄어들수 있다.\n",
            "2. 단약을 바닥에 버린다.\n",
            "당신의 선택은? : 1\n",
            "당신이 먹은 단약은 괜찮은 단약이었다!\n",
            "체력이 20 늘었다.\n",
            "스태미너가 20 늘었다.\n",
            "\n",
            "############################\n",
            "#현재 체력 :  100 #######\n",
            "#현재 스태미너 :  80 ###\n",
            "############################\n",
            "1. 단약을 먹는다. 50퍼센트 확률로 체력과 스테미너를 20 회복한지만 반대로 체력이 20 줄어들수 있다.\n",
            "2. 단약을 바닥에 버린다.\n",
            "당신의 선택은? : 1\n",
            "당신이 먹은 단약은 유통기한이 지난 단약이었다\n",
            "현재 체력이 20 줄었다.\n",
            "\n",
            "############################\n",
            "#현재 체력 :  80 #######\n",
            "#현재 스태미너 :  80 ###\n",
            "############################\n",
            "\n",
            "############################\n",
            "#현재 체력 :  80 #######\n",
            "#현재 스태미너 :  80 ###\n",
            "############################\n",
            "\n",
            "\n",
            "\n",
            "3일차\n",
            "------------------------------------------------------------------------\n",
            "오늘 연어와 장어를 낚시로 잡았다.\n",
            "하지만 당신은 보관 기술이 없어 두 생선중 하나만 선택해서 먹어야한다.\n",
            "1. 오늘 연어를 먹는다.(체력+30)\n",
            "2. 오늘 장어를 먹는다.(스태미너+30)\n",
            "당신의 선택은? : 1\n",
            "당신은 오늘 연어를 먹었다.\n",
            "체력이 30 늘었다.\n",
            "\n",
            "############################\n",
            "#현재 체력 :  110 #######\n",
            "#현재 스태미너 :  80 ###\n",
            "############################\n",
            "\n",
            "\n",
            "\n",
            "4일차\n",
            "------------------------------------------------------------------------\n",
            "당신은 무인도를 돌아다니던 중 곰을 만났다. 어떻게 행동해야할까?\n",
            "1. 나무를 타고 오른다.\n",
            "2. 곰에게 죽기살기로 맞선다.\n",
            "3. 죽은척을 한다.\n",
            "당신의 선택은? : 3\n",
            "곰은 당신을 지나쳐갔다.\n",
            "스태미너가 50 줄었다.\n",
            "\n",
            "############################\n",
            "#현재 체력 :  110 #######\n",
            "#현재 스태미너 :  30 ###\n",
            "############################\n",
            "\n",
            "\n",
            "\n",
            "5일차\n",
            "------------------------------------------------------------------------\n",
            "구조선이 보인다. 하지만 구조선이 생각보다 너무 낡고 모르는 외국인들이 보인다.\n",
            "1. 나를 구조해주러 온 선원들인거 같다 뛰어라!\n",
            "2. 무언가 수상하다 숨어있자\n",
            "당신의 선택은? : 1\n",
            "알고 보니 해적들이었다. 당신은 평생을 해적들의 노예로 살다 생을 마감했다.\n",
            "Game Over\n",
            "\n",
            "############################\n",
            "#현재 체력 :  110 #######\n",
            "#현재 스태미너 :  30 ###\n",
            "############################\n",
            "\n",
            "\n",
            "\n",
            "------------------------------------------------------------------------\n",
            "축하합니다. 당신은 헬기를 타고 탈출하셨습니다.\n",
            "############################\n",
            "#현재 체력 :  110 #######\n",
            "#현재 스태미너 :  30 ###\n",
            "############################\n"
          ]
        }
      ]
    }
  ]
}