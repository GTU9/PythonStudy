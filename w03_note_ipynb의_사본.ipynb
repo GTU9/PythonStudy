{
  "nbformat": 4,
  "nbformat_minor": 0,
  "metadata": {
    "colab": {
      "provenance": [],
      "toc_visible": true,
      "include_colab_link": true
    },
    "kernelspec": {
      "name": "python3",
      "display_name": "Python 3"
    },
    "language_info": {
      "name": "python"
    }
  },
  "cells": [
    {
      "cell_type": "markdown",
      "metadata": {
        "id": "view-in-github",
        "colab_type": "text"
      },
      "source": [
        "<a href=\"https://colab.research.google.com/github/GTU9/PythonStudy/blob/main/w03_note_ipynb%EC%9D%98_%EC%82%AC%EB%B3%B8.ipynb\" target=\"_parent\"><img src=\"https://colab.research.google.com/assets/colab-badge.svg\" alt=\"Open In Colab\"/></a>"
      ]
    },
    {
      "cell_type": "markdown",
      "source": [
        "## 01. 행맨\n",
        "\n"
      ],
      "metadata": {
        "id": "44ZcS4_57EdP"
      }
    },
    {
      "cell_type": "markdown",
      "source": [
        "* https://hangmanwordgame.com/\n",
        "* https://poki.com/kr/g/hangman\n",
        "\n",
        "* 게임의 순서도 [drawio]( https://drive.google.com/file/d/17gl9wR01gDn7XnWFLjSdPEd8GjwE0Gba/view?usp=sharing)"
      ],
      "metadata": {
        "id": "wxiDwmMu7hME"
      }
    },
    {
      "cell_type": "markdown",
      "source": [
        "### 01. 사용자가 입력한 글자가 맞는지를 확인하기"
      ],
      "metadata": {
        "id": "e2WQQyiL7LgW"
      }
    },
    {
      "cell_type": "markdown",
      "source": [
        "여러개의 단어 중 하나를 선택하고, 사용자가 입력한 글자가 그 안에 포함되어 있는지를 확인하는 코드를 작성하시오.\n",
        "\n",
        "사용할 단어 리스트:\n",
        "```\n",
        "word_list = [\"apple\", \"banana\", \"cherry\", \"date\", \"elderberry\", \"fig\", \"grape\", \"honeydew\" , \"kiwi\", \"lemon\", \"mango\", \"nectarine\", \"orange\", \"peach\"]\n",
        "```\n",
        "\n",
        "output:\n",
        "```\n",
        "맞출 단어: orange\n",
        "예상하는 글자: r\n",
        "Wrong!\n",
        "Right\n",
        "Wrong!\n",
        "Wrong!\n",
        "Wrong!\n",
        "Wrong!\n",
        "```"
      ],
      "metadata": {
        "id": "vEagSw6C7eCK"
      }
    },
    {
      "cell_type": "code",
      "source": [
        "import sys\n",
        "\n",
        "word_list = [\"apple\", \"banana\", \"cherry\", \"date\", \"elderberry\", \"fig\", \"grape\", \"honeydew\" , \"kiwi\", \"lemon\", \"mango\", \"nectarine\", \"orange\", \"peach\"]\n",
        "resultList=[]\n",
        "\n",
        "temp=input(\"맞출 단어: \")\n",
        "\n",
        "for i in range(len(word_list)):\n",
        "  if(word_list[i]==temp):\n",
        "    resultList=list(temp)\n",
        "    break\n",
        "  print(\"해당 단어는 없음\")\n",
        "  sys.exit()\n",
        "\n",
        "ch=input(\"예상하는 글자: \")\n",
        "for i in range(len(resultList)):\n",
        "  if(ch==resultList[i]):\n",
        "    print(\"Right\")\n",
        "  else:\n",
        "    print(\"Wrong!\")"
      ],
      "metadata": {
        "id": "vTJkJW_R8FTw",
        "colab": {
          "base_uri": "https://localhost:8080/",
          "height": 129
        },
        "outputId": "f5970ded-1a2e-4161-8329-689a40e9ee1f"
      },
      "execution_count": 7,
      "outputs": [
        {
          "output_type": "stream",
          "name": "stdout",
          "text": [
            "맞출 단어: banana\n",
            "해당 단어는 없음\n"
          ]
        },
        {
          "output_type": "error",
          "ename": "SystemExit",
          "evalue": "",
          "traceback": [
            "An exception has occurred, use %tb to see the full traceback.\n",
            "\u001b[0;31mSystemExit\u001b[0m\n"
          ]
        }
      ]
    },
    {
      "cell_type": "markdown",
      "source": [
        "### 02. 빈 칸을 맞춘 글자로 바꾸기"
      ],
      "metadata": {
        "id": "XaM0tCAs7d_Y"
      }
    },
    {
      "cell_type": "markdown",
      "source": [
        "맞출 단어가 선택되면 글자 수 만큼 _ 를 표시하고, 사용자가 입력한 글자가 해당 단어에 포함되는 경우 _ 대신 글자로 변경해 봅시다.\n",
        "\n",
        "output:\n",
        "```\n",
        "맞출 단어: kiwi\n",
        "['_', '_', '_', '_']\n",
        "예상하는 글자: k\n",
        "['k', '_', '_', '_']\n",
        "```\n"
      ],
      "metadata": {
        "id": "PrktjqU-8BUI"
      }
    },
    {
      "cell_type": "code",
      "execution_count": 13,
      "metadata": {
        "id": "VcsUsTPe7Agv",
        "colab": {
          "base_uri": "https://localhost:8080/"
        },
        "outputId": "c2a74537-8062-47f7-f606-3e55c8a8397c"
      },
      "outputs": [
        {
          "output_type": "stream",
          "name": "stdout",
          "text": [
            "맞출 단어: kiwi\n",
            "['_', '_', '_', '_']\n",
            "예상하는 글자: k\n",
            "['k', '_', '_', '_']\n"
          ]
        }
      ],
      "source": [
        "word_list = [\"apple\", \"banana\", \"cherry\", \"date\", \"elderberry\", \"fig\", \"grape\", \"honeydew\" , \"kiwi\", \"lemon\", \"mango\", \"nectarine\", \"orange\", \"peach\"]\n",
        "resultList=[]\n",
        "defaultList=[]\n",
        "\n",
        "temp=input(\"맞출 단어: \")\n",
        "\n",
        "for i in range(len(word_list)):\n",
        "  if(word_list[i]==temp):\n",
        "    resultList=list(temp)\n",
        "    break\n",
        "  print(\"해당 단어는 없음\")\n",
        "  break\n",
        "\n",
        "\n",
        "for i in range(len(resultList)):\n",
        "  defaultList.append('_')\n",
        "print(defaultList)\n",
        "ch=input(\"예상하는 글자: \")\n",
        "for i in range(len(defaultList)):\n",
        "  if(resultList[i]==ch):\n",
        "    defaultList[i]=ch\n",
        "print(defaultList)"
      ]
    },
    {
      "cell_type": "markdown",
      "source": [
        "### 03. 사용자가 이겼는지 확인하기"
      ],
      "metadata": {
        "id": "yECb-_n_8Elf"
      }
    },
    {
      "cell_type": "markdown",
      "source": [
        "맞출 단어의 모든 글자를 사용자가 입력할 때까지 입력을 받고, 모든 글자를 다 입력했으면 게임을 종료해 봅시다.\n",
        "\n",
        "output:\n",
        "```\n",
        "맞출 단어: apple\n",
        "['_', '_', '_', '_', '_']\n",
        "예상하는 글자: a\n",
        "['a', '_', '_', '_', '_']\n",
        "예상하는 글자: p\n",
        "['a', 'p', 'p', '_', '_']\n",
        "예상하는 글자: l\n",
        "['a', 'p', 'p', 'l', '_']\n",
        "예상하는 글자: e\n",
        "['a', 'p', 'p', 'l', 'e']\n",
        "정답입니다!\n",
        "```"
      ],
      "metadata": {
        "id": "3LVRxMzE8IzV"
      }
    },
    {
      "cell_type": "code",
      "source": [],
      "metadata": {
        "id": "dATYEcCs8LeR"
      },
      "execution_count": null,
      "outputs": []
    },
    {
      "cell_type": "markdown",
      "source": [
        "### 04. 사용자의 남은 목숨 세기"
      ],
      "metadata": {
        "id": "g1SEsSMq8LwS"
      }
    },
    {
      "cell_type": "markdown",
      "source": [
        "사용자의 목숨을 6개로 설정하고, 입력한 글자가 맞출 단어에 없으면 목숨을 1개씩 줄여서 0이 되면 게임이 멈추도록 해봅시다. 그리고 게임을 시작할 때 로고를 등장하고, 현재 목숨 상태를 아스키 아트로 표현해 봅시다.\n",
        "\n",
        "```\n",
        "hangman_logo = [\n",
        "    \"\"\"\n",
        "   _                                            \n",
        "  | |                                           \n",
        "  | |__   __ _ _ __   __ _ _ __ ___   __ _ _ __\n",
        "  | '_ \\ / _` | '_ \\ / _` | '_ ` _ \\ / _` | '__\\\n",
        "  | | | | (_| | | | | (_| | | | | | | (_| | | | |\n",
        "  |_| |_|\\__,_|_| |_|\\__, |_| |_| |_|\\__,_|_| |_|\n",
        "                    __/ |                     \n",
        "                   |___/               \n",
        "  \"\"\"\n",
        "]\n",
        "```\n",
        "\n",
        "```\n",
        "hangman_stages = [\n",
        "    \"\"\"\n",
        "     ------\n",
        "     |    |\n",
        "     |    O\n",
        "     |   /|\\\\\n",
        "     |   / \\\\\n",
        "     |\n",
        "  --------\n",
        "  \"\"\", \"\"\"\n",
        "     ------\n",
        "     |    |\n",
        "     |    O\n",
        "     |   /|\\\\\n",
        "     |   /\n",
        "     |\n",
        "  --------\n",
        "  \"\"\", \"\"\"\n",
        "     ------\n",
        "     |    |\n",
        "     |    O\n",
        "     |   /|\\\\\n",
        "     |\n",
        "     |\n",
        "  --------\n",
        "  \"\"\", \"\"\"\n",
        "     ------\n",
        "     |    |\n",
        "     |    O\n",
        "     |   /|\n",
        "     |\n",
        "     |\n",
        "  --------\n",
        "  \"\"\", \"\"\"\n",
        "     ------\n",
        "     |    |\n",
        "     |    O\n",
        "     |    |\n",
        "     |\n",
        "     |\n",
        "  --------\n",
        "  \"\"\", \"\"\"\n",
        "     ------\n",
        "     |    |\n",
        "     |    O\n",
        "     |\n",
        "     |\n",
        "     |\n",
        "  --------\n",
        "  \"\"\", \"\"\"\n",
        "     ------\n",
        "     |    |\n",
        "     |\n",
        "     |\n",
        "     |\n",
        "     |\n",
        "  --------\n",
        "  \"\"\"\n",
        "]\n",
        "```\n",
        "\n",
        "output:\n",
        "```\n",
        "  _                                            \n",
        "  | |                                           \n",
        "  | |__   __ _ _ __   __ _ _ __ ___   __ _ _ __\n",
        "  | '_ \\ / _` | '_ \\ / _` | '_ ` _ \\ / _` | '__\\\n",
        "  | | | | (_| | | | | (_| | | | | | | (_| | | | |\n",
        "  |_| |_|\\__,_|_| |_|\\__, |_| |_| |_|\\__,_|_| |_|\n",
        "                    __/ |                     \n",
        "                   |___/               \n",
        "  \n",
        "맞출 단어: honeydew\n",
        "['_', '_', '_', '_', '_', '_', '_', '_']\n",
        "예상하는 글자: h\n",
        "['h', '_', '_', '_', '_', '_', '_', '_']\n",
        "\n",
        "     ------\n",
        "     |    |\n",
        "     |\n",
        "     |\n",
        "     |\n",
        "     |\n",
        "  --------\n",
        "\n",
        "```"
      ],
      "metadata": {
        "id": "ZlIOgyWJ8OfU"
      }
    },
    {
      "cell_type": "code",
      "source": [],
      "metadata": {
        "id": "uFOtGc928aVA"
      },
      "execution_count": null,
      "outputs": []
    },
    {
      "cell_type": "markdown",
      "source": [
        "### 05. 개선하기"
      ],
      "metadata": {
        "id": "YHneWtjo8eXr"
      }
    },
    {
      "cell_type": "markdown",
      "source": [
        "사용자가 입력한 글자가 어떤 글자인지 출력하고, 이미 입력해서 맞춘 글자라면 맞춘 글자라고 알려주고, 틀린 글자라면 틀렸다고 알려주는 출력 코드를 추가해 봅시다.\n",
        "\n",
        "output:\n",
        "```\n",
        "예상하는 글자: m\n",
        "당신이 입력한 글자는 m 이고, 이미 맞춘 글자 입니다.\n",
        "['m', '_', '_', '_', '_']\n",
        "```\n",
        "\n",
        "output:\n",
        "```\n",
        "예상하는 글자: p\n",
        "당신이 입력한 글자는 p 이고, 단어안에 포함되어 있지 않습니다. 목숨을 하나 잃습니다.\n",
        "['m', 'a', 'n', '_', '_']\n",
        "```"
      ],
      "metadata": {
        "id": "8fLC8LYi-jz9"
      }
    },
    {
      "cell_type": "code",
      "source": [],
      "metadata": {
        "id": "hgagRrBhAVKM"
      },
      "execution_count": null,
      "outputs": []
    },
    {
      "cell_type": "markdown",
      "source": [
        "## 02. 시저 암호"
      ],
      "metadata": {
        "id": "amhlxhkaAaMs"
      }
    },
    {
      "cell_type": "markdown",
      "source": [
        "시저 암호 방법을 이용하여 텍스트 메시지를 암호화 하고, 암호화된 텍스트를 원래 텍스트로 복호화하는 프로그램을 만들어 봅시다.\n",
        "\n",
        "시저 암호는 가장 간단하고 오래된 암호화 기법 중 하나입니다. 기원전 1세기경 로마 황제 줄리어스 시저가 군사 통신에서 사용했다고 해서 시저 암호라는 이름이 붙었습니다. 이 암호화 기법의 기본 원리는 알파벳을 일정한 수만큼 이동시키는 것입니다.\n",
        "\n",
        "* 알파벳을 이동시키기 : 평문(암호화되지 않은 메시지)의 각 문자를 알파벳에서 일정한 수의 자리만큼 이동시킵니다.\n",
        "모듈러 연산 : 알파벳의 끝에 도달하면 처음으로 돌아가야 하기 때문에 모듈러 연산을 사용합니다.\n",
        "\n",
        "* 알파벳 집합을 다음과 같이 정의한다고 가정해 봅시다.\n",
        "```\n",
        "alphabets = ['a', 'b', 'c', 'd', 'e', 'f', 'g', 'h', 'i', 'j', 'k', 'l', 'm', 'n', 'o', 'p', 'q','r', 's', 't', 'u', 'v', 'w', 'x', 'y', 'z']\n",
        "```\n",
        "\n",
        "hello 를 오른쪽으로 3칸 이동하는 암호화 작업을 한다.\n",
        "```\n",
        "h -> k\n",
        "e -> h\n",
        "l -> o\n",
        "l -> o\n",
        "o -> r\n",
        "```\n",
        "로 변경되어 khoor 이 됩니다. 반대로 암호화된 문자인 khoor 을 원래 문장으로 되돌리기 위해서는(복호화), 왼쪽으로 다시 3칸 이동하면 됩니다.\n",
        "```\n",
        "k -> h\n",
        "h -> e\n",
        "o -> l\n",
        "o -> l\n",
        "r -> o\n",
        "```\n",
        "이 프로그램을 만들어 봅시다."
      ],
      "metadata": {
        "id": "Eg2nD92vA8lM"
      }
    },
    {
      "cell_type": "markdown",
      "source": [
        "### 01. 사전 준비"
      ],
      "metadata": {
        "id": "xgIlARn6BDDi"
      }
    },
    {
      "cell_type": "markdown",
      "source": [
        "우리는 먼저 알파벳 소문자를 대상으로 하며, 다음과 같은 3개의 정보를 받습니다.\n",
        "암호화 할것인가 복호화 할것인가?\n",
        "암호/복호 할 메세지(평문)는 무엇인가?\n",
        "몇 자리만큼 이동할 것인가?\n",
        "\n",
        "starter code:\n",
        "```\n",
        "alphabets = ['a', 'b', 'c', 'd', 'e', 'f', 'g', 'h', 'i', 'j', 'k', 'l', 'm', 'n', 'o', 'p', 'q','r', 's', 't', 'u', 'v', 'w', 'x', 'y', 'z']\n",
        "\n",
        "direction = input(\"암호화(encode) 하려면 e, 복호화(decode) 하려면 d를 입력하세요: \")\n",
        "text = input(\"메세지를 입력하세요: \").lower()\n",
        "shift = int(input(\"당신의 shift number를 입력하세요: \"))\n",
        "```\n",
        "\n",
        "암호화 할 것인지, 복호화 할 것인지에 따라 서로 다른 동작이 이뤄지도록 코드를 작성해 봅시다.\n",
        "암호화하는 함수는 encrypt(plain_text, shift_amount) 이고 복호화하는 함수는 decrypt(plain_text, shift_amount) 로 작성합니다. 일단 함수 내부의 코드를 만들기 전에 함수를 동작시키는 코드를 먼저 작성합니다.\n",
        "\n",
        "input:\n",
        "```\n",
        "e\n",
        "hello\n",
        "5\n",
        "```\n",
        "\n",
        "output:\n",
        "```\n",
        "khoor\n",
        "```"
      ],
      "metadata": {
        "id": "JpPKr7w1BEdY"
      }
    },
    {
      "cell_type": "code",
      "source": [
        "alphabets = ['a', 'b', 'c', 'd', 'e', 'f', 'g', 'h', 'i', 'j', 'k', 'l', 'm', 'n', 'o', 'p', 'q','r', 's', 't', 'u', 'v', 'w', 'x', 'y', 'z']\n",
        "\n",
        "direction = input(\"암호화(encode) 하려면 e, 복호화(decode) 하려면 d를 입력하세요: \")\n",
        "text = input(\"메세지를 입력하세요: \").lower()\n",
        "shift = int(input(\"당신의 shift number를 입력하세요: \"))\n",
        "\n"
      ],
      "metadata": {
        "id": "lz5K12R7BO2M"
      },
      "execution_count": null,
      "outputs": []
    },
    {
      "cell_type": "markdown",
      "source": [
        "### 02. 암호화 하기"
      ],
      "metadata": {
        "id": "AR2rhnRLBSXO"
      }
    },
    {
      "cell_type": "markdown",
      "source": [
        "encrypt() 함수를 정의해 봅시다.\n",
        "\n",
        "* 바뀐 메세지를 입력할 cipher_text 변수에 빈 문자열을 저장한다.\n",
        "* 입력받은 메세지를 한 글자씩 꺼내서 다음 과정을 반복 수행한다.\n",
        "  - 해당 글자가 alphabets 리스트에서 몇 번째 위치에 있는지를 찾는다.\n",
        "  - 해당 위치에 입력받은 이동할 숫자 만큼 덧셈하여 새로운 위치로 저장한다.\n",
        "  - 새로운 위치에 해당하는 alphabets 리스트의 글자를 찾아서 새로운 글자로 저장한다.\n",
        "  - 새로운 글자를 바뀐 메세지가 입력될 cipher_text 에 순서대로 저장한다.\n",
        "* 모든 과정이 끝나면 cipher_text 를 화면에 출력한다.\n",
        "\n",
        "input:\n",
        "```\n",
        "encrypt(\"hello\", 5)\n",
        "```\n",
        "\n",
        "output:\n",
        "```\n",
        "암호화된 메세지는 khoor 입니다.\n",
        "```"
      ],
      "metadata": {
        "id": "OEjM4mHaBUvr"
      }
    },
    {
      "cell_type": "code",
      "source": [],
      "metadata": {
        "id": "qKRV1KqfBd3_"
      },
      "execution_count": null,
      "outputs": []
    },
    {
      "cell_type": "markdown",
      "source": [
        "### 03. 복호화 하기"
      ],
      "metadata": {
        "id": "lgp3IcAABeby"
      }
    },
    {
      "cell_type": "markdown",
      "source": [
        "decrypt() 함수를 정의해 봅시다.\n",
        "\n",
        "* 바뀐 메세지를 입력할 cipher_text 변수에 빈 문자열을 저장한다.\n",
        "* 입력받은 메세지를 한 글자씩 꺼내서 다음 과정을 반복 수행한다.\n",
        "  - 해당 글자가 alphabets 리스트에서 몇 번째 위치에 있는지를 찾는다.\n",
        "  - 해당 위치에 입력받은 이동할 숫자 만큼 뺄셈하여 새로운 위치로 저장한다.\n",
        "  - 새로운 위치에 해당하는 alphabets 리스트의 글자를 찾아서 새로운 글자로 저장한다.\n",
        "  - 새로운 글자를 바뀐 메세지가 입력될 cipher_text 에 순서대로 저장한다.\n",
        "* 모든 과정이 끝나면 cipher_text 를 화면에 출력한다.\n",
        "\n",
        "input:\n",
        "```\n",
        "decrypt(\"khoor\", 5)\n",
        "```\n",
        "\n",
        "output:\n",
        "```\n",
        "복호화된 메세지는 hello 입니다.\n",
        "```"
      ],
      "metadata": {
        "id": "73aKfAIDBgIY"
      }
    },
    {
      "cell_type": "code",
      "source": [],
      "metadata": {
        "id": "6ot3M7ILBmxE"
      },
      "execution_count": null,
      "outputs": []
    },
    {
      "cell_type": "markdown",
      "source": [
        "### 04. 개선하기"
      ],
      "metadata": {
        "id": "a4Uxu-jXBn3M"
      }
    },
    {
      "cell_type": "markdown",
      "source": [
        "새롭게 정의한 두 개의 함수를 자세히 살펴보면, 거의 동작이 비슷해 보입니다. 단 암호화인지 복호화인지에 따라 덧셈 연산 또는 뺄셈 연산을 하는 차이가 있습니다. 중복되는 부분을 최대한 줄이기 위해 두 개의 사용자 정의 함수를 하나의 함수로 합쳐 봅시다.\n",
        "\n",
        "caesar_cipher() 의 이름으로 함수를 정의합니다.\n",
        "\n",
        "input:\n",
        "```\n",
        "e\n",
        "hello\n",
        "3\n",
        "```\n",
        "\n",
        "output:\n",
        "```\n",
        "변경된 메세지는 khoor 입니다.\n",
        "```"
      ],
      "metadata": {
        "id": "BMQJTXgvBpTR"
      }
    },
    {
      "cell_type": "code",
      "source": [],
      "metadata": {
        "id": "hea8awsnBylr"
      },
      "execution_count": null,
      "outputs": []
    },
    {
      "cell_type": "markdown",
      "source": [
        "그 밖의 개선 사항을 고민해 봅시다.\n",
        "* 프로그램을 시작할 때 로고를 넣고 싶다면?\n",
        "* 사용자가 제대로 데이터를 입력하지 않는다면?\n",
        "  - e 나 d 말고 다른 값을 입력한다면?\n",
        "  - 이동할 숫자를 크게 입력한다면?\n",
        "  - 암호화해야 할 값에 숫자가 포함되었다면?\n",
        "* 프로그램을 종료하는 시점을 사용자가 정하게 할 수는 없을까?\n"
      ],
      "metadata": {
        "id": "DN3fMQJqBy2P"
      }
    },
    {
      "cell_type": "code",
      "source": [
        "logo = [\n",
        "  \"\"\"\n",
        " ,-----.\n",
        "'  .--./ ,--,--. ,---.  ,---.  ,--,--.,--.--.\n",
        "|  |    ' ,-.  || .-. :(  .-' ' ,-.  ||  .--'\n",
        "'  '--'\\\\ '-'   |\\   --..-'  `)\\ '-'  ||  |\n",
        " `-----' `--`--' `----'`----'  `--`--'`--'\n",
        "  \"\"\"\n",
        "]"
      ],
      "metadata": {
        "id": "xlnSYe04B2t_"
      },
      "execution_count": null,
      "outputs": []
    },
    {
      "cell_type": "markdown",
      "source": [
        "모듈러 연산\n",
        "사용되는 알파벳은 총 26개 입니다. 따라서 a 를 선택한 경우에도 26을 이동 숫자로 선택하면 범위를 벗어나게 됩니다. 따라서 이런 경우, 27이 되는 순간 27이 아닌 1이 되어야 합니다. 즉, 어떤 숫자를 입력하든 1부터 26 사이의 숫자만 사용되어야 합니다. 이를 위해서는 나머지 연산을 이용합니다.\n",
        "\n",
        "input:\n",
        "```\n",
        "e\n",
        "z\n",
        "3\n",
        "```\n",
        "\n",
        "output:\n",
        "```\n",
        "c\n",
        "```"
      ],
      "metadata": {
        "id": "1MMj7hQVB4jt"
      }
    },
    {
      "cell_type": "code",
      "source": [],
      "metadata": {
        "id": "lDC2kRrJB8_F"
      },
      "execution_count": null,
      "outputs": []
    },
    {
      "cell_type": "markdown",
      "source": [
        "암호화할 메세지에 숫자가 들어간 경우\n",
        "이런 경우 그대로 입력한 숫자가 나오도록 하면 됩니다. 즉, 숫자, 기호, 공백 등은 그대로 나오고 알파벳만 변경되도록 작성해야 합니다.\n",
        "\n",
        "input:\n",
        "```\n",
        "e\n",
        "hello123\n",
        "3\n",
        "```\n",
        "\n",
        "output:\n",
        "```\n",
        "khoor123\n",
        "```"
      ],
      "metadata": {
        "id": "CTpz2u8HB9Wb"
      }
    },
    {
      "cell_type": "code",
      "source": [],
      "metadata": {
        "id": "M4z0iqfjCA17"
      },
      "execution_count": null,
      "outputs": []
    },
    {
      "cell_type": "markdown",
      "source": [
        "사용자가 원할때까지 프로그램이 계속 동작되도록 하기\n",
        "\n",
        "input:\n",
        "```\n",
        "yes 또는 no\n",
        "```\n",
        "\n",
        "output:\n",
        "```\n",
        "# no 를 선택한 경우 다음 텍스트를 출력하고 프로그램 종료\n",
        "안녕~\n",
        "\n",
        "# yes 를 선택한 경우, 다시 처음 질문부터 물어봄\n",
        "```"
      ],
      "metadata": {
        "id": "J-h0iqNBCDbr"
      }
    },
    {
      "cell_type": "code",
      "source": [],
      "metadata": {
        "id": "1ObVVzIkCGSe"
      },
      "execution_count": null,
      "outputs": []
    },
    {
      "cell_type": "markdown",
      "source": [
        "## 03. 경매 프로그램"
      ],
      "metadata": {
        "id": "XxwbbElgCHrO"
      }
    },
    {
      "cell_type": "markdown",
      "source": [
        "### 01. 딕셔너리"
      ],
      "metadata": {
        "id": "0qtp5F9jCLa8"
      }
    },
    {
      "cell_type": "markdown",
      "source": [
        "{key: value} 의 쌍으로 저장하는 데이터 구조\n",
        "\n",
        "다음 정보를 딕셔너리로 저장해 봅시다.\n",
        "\n",
        "* Debug : 프로그램의 오류를 찾아내고 수정하는 과정\n",
        "* Function : 특정 작업을 수행하기 위해 독립된 코드 블록으로 정의된 재사용 가능한 코드\n",
        "* Loop : 특정 코드 블록을 정해진 조건이나 횟수만큼 반복하여 실행하는 프로그래밍 구조\n",
        "\n",
        "programming_dict 의 딕셔너리 구조에 입력하고, Loop 에 해당하는 값을 출력하시오.\n",
        "\n",
        "output:\n",
        "```\n",
        "프로그램의 오류를 찾아내고 수정하는 과정\n",
        "```"
      ],
      "metadata": {
        "id": "woUUHweTCNv5"
      }
    },
    {
      "cell_type": "code",
      "source": [],
      "metadata": {
        "id": "O_mnCfcWCkPT"
      },
      "execution_count": null,
      "outputs": []
    },
    {
      "cell_type": "markdown",
      "source": [
        "programming_dict 에 다음과 같은 내용을 추가해 봅시다.\n",
        "\n",
        "* Object : 데이터와 그 데이터를 처리하는 메서드(함수)를 하나로 묶어 놓은 프로그래밍의 기본 단위\n",
        "\n",
        "output:\n",
        "```\n",
        "데이터와 그 데이터를 처리하는 메서드(함수)를 하나로 묶어 놓은 프로그래밍의 기본 단위\n",
        "```"
      ],
      "metadata": {
        "id": "s9CBMJEtClzF"
      }
    },
    {
      "cell_type": "code",
      "source": [],
      "metadata": {
        "id": "9PKEiF2NCsxZ"
      },
      "execution_count": null,
      "outputs": []
    },
    {
      "cell_type": "markdown",
      "source": [
        "딕셔너리에 저장된 키와 값을 for문을 이용하여 모두 출력해 봅시다.\n",
        "\n",
        "starter code:\n",
        "```\n",
        "programming_dict = {\n",
        "    \"Debug\": \"프로그램의 오류를 찾아내고 수정하는 과정\",\n",
        "    \"Function\": \"특정 작업을 수행하기 위해 독립된 코드 블록으로 정의된 재사용 가능한 코드\",\n",
        "    \"Loop\": \"특정 코드 블록을 정해진 조건이나 횟수만큼 반복하여 실행하는 프로그래밍 구조\",\n",
        "    \"Object\": \"데이터와 그 데이터를 처리하는 메서드(함수)를 하나로 묶어 놓은 프로그래밍의 기본 단위\"\n",
        "}\n",
        "```\n",
        "\n",
        "output:\n",
        "```\n",
        "Debug\n",
        "프로그램의 오류를 찾아내고 수정하는 과정\n",
        "Function\n",
        "특정 작업을 수행하기 위해 독립된 코드 블록으로 정의된 재사용 가능한 코드\n",
        "Loop\n",
        "특정 코드 블록을 정해진 조건이나 횟수만큼 반복하여 실행하는 프로그래밍 구조\n",
        "Object\n",
        "데이터와 그 데이터를 처리하는 메서드(함수)를 하나로 묶어 놓은 프로그래밍의 기본 단위\n",
        "```"
      ],
      "metadata": {
        "id": "dmv9z9h2Ctc9"
      }
    },
    {
      "cell_type": "code",
      "source": [
        "programming_dict = {\n",
        "  \"Debug\": \"프로그램의 오류를 찾아내고 수정하는 과정\",\n",
        "  \"Function\": \"특정 작업을 수행하기 위해 독립된 코드 블록으로 정의된 재사용 가능한 코드\",\n",
        "  \"Loop\": \"특정 코드 블록을 정해진 조건이나 횟수만큼 반복하여 실행하는 프로그래밍 구조\",\n",
        "  \"Object\": \"데이터와 그 데이터를 처리하는 메서드(함수)를 하나로 묶어 놓은 프로그래밍의 기본 단위\"\n",
        "}\n",
        "\n"
      ],
      "metadata": {
        "id": "RPzhPeQgC0Ga"
      },
      "execution_count": null,
      "outputs": []
    },
    {
      "cell_type": "markdown",
      "source": [
        "학생들의 점수를 보고 학점을 부여하는 프로그램을 만들어 봅시다.\n",
        "* 학점 기준:\n",
        "  - 95점 이상 A+\n",
        "  - 90점 이상 A\n",
        "  - 85점 이상 B+\n",
        "  - 80점 이상 B\n",
        "  - 나머지 Fail\n",
        "\n",
        "starter code:\n",
        "```\n",
        "student_scores = {\n",
        "  \"철수\": 81,\n",
        "  \"민수\": 92,\n",
        "  \"영희\": 76,\n",
        "  \"수진\": 98,\n",
        "}\n",
        "\n",
        "student_grades = {}\n",
        "\n",
        "print(student_grades)\n",
        "```\n",
        "\n",
        "output:\n",
        "```\n",
        "{'철수': 'B', '민수': 'A', '영희': 'Fail', '수진': 'A+'}\n",
        "```"
      ],
      "metadata": {
        "id": "v_ZcD9ekC3ld"
      }
    },
    {
      "cell_type": "code",
      "source": [
        "student_scores = {\n",
        "  \"철수\": 81,\n",
        "  \"민수\": 92,\n",
        "  \"영희\": 76,\n",
        "  \"수진\": 98,\n",
        "}\n",
        "\n",
        "student_grades = {}\n",
        "\n",
        "\n",
        "\n",
        "print(student_grades)"
      ],
      "metadata": {
        "id": "HDKpOfwTDAGL"
      },
      "execution_count": null,
      "outputs": []
    },
    {
      "cell_type": "markdown",
      "source": [
        "### 02. 리스트와 딕셔너리 중첩하기"
      ],
      "metadata": {
        "id": "jNZlqtiQDCw5"
      }
    },
    {
      "cell_type": "markdown",
      "source": [
        "딕셔너리에 저장되는 값은 하나의 값 뿐만 아니라 리스트 또는 딕셔너리를 저장할 수 있습니다.\n",
        "```\n",
        "{\n",
        "  key1: [List],\n",
        "  key2: {Dict},\n",
        "}\n",
        "```\n",
        "\n",
        "똔는 리스트 안에 딕셔너리가 포함될 수도 있습니다. 그리고 그 안에 또 값, 리스트, 딕셔너리가 포함될 수 있습니다. 이런 형태가 중첩되었다고 합니다.\n",
        "```\n",
        "[\n",
        "  {\n",
        "    key1: value1,\n",
        "    key2: [List],\n",
        "    key3: {Dict},\n",
        "  },\n",
        "  {\n",
        "    ...\n",
        "  },\n",
        "]\n",
        "```\n",
        "\n",
        "다음 형태로 여행 데이터를 저장해 봅시다.\n",
        "* 여행 데이터는 리스트로 저장한다.\n",
        "* 여행지는 딕셔너리로 저장한다.\n",
        "* 국가명은 문자열로 저장한다.\n",
        "* 방문한 도시는 리스트로 저장한다.\n",
        "* 방문 횟수는 숫자로 저장한다.\n",
        "\n",
        "* 첫 번째 여행\n",
        "  - 국가명 : swiss\n",
        "  - 방문한 도시 : bern, luzern, interlaken\n",
        "  - 방문 횟수 : 12\n",
        "* 두 번째 여행\n",
        "  - 국가명 : italia\n",
        "  - 방문한 도시 : roma, firenze, napoli, milano\n",
        "  - 방문 횟수 : 5\n"
      ],
      "metadata": {
        "id": "hoZK2K1HDE-T"
      }
    },
    {
      "cell_type": "code",
      "source": [],
      "metadata": {
        "id": "rgpgzkA6DSKy"
      },
      "execution_count": null,
      "outputs": []
    },
    {
      "cell_type": "markdown",
      "source": [
        "위에서 만든 데이터 구조를 이용하여, 새로운 여행 기록을 추가해 봅시다. 추가할 여행 정보는 다음과 같습니다.\n",
        "\n",
        "* 세 번째 여행\n",
        "  - 국가명 : england\n",
        "  - 방문한 도시 : london, cambridge, oxford\n",
        "  - 방문 횟수 : 2\n",
        "\n",
        "여행 정보를 추가하기 위해 add_new_country() 함수를 만들고, 추가된 정보를 출력해 봅시다.\n",
        "\n",
        "starter code:\n",
        "\n",
        "```\n",
        "travel_log = [\n",
        "  {\n",
        "    \"country\": \"swiss\",\n",
        "    \"cities_visited\": [\"bern\", \"luzern\", \"interlaken\"],\n",
        "    \"total_visits\": 12   \n",
        "  },\n",
        "  {\n",
        "    \"country\": \"italia\",\n",
        "    \"cities_visited\": [\"roma\", \"firenze\", \"napoli\", \"milano\"],\n",
        "    \"total_visits\" : 5    \n",
        "  }  \n",
        "]\n",
        "\n",
        "def add_new_country(country, cities, visits):\n",
        "```\n",
        "\n",
        "output:\n",
        "```\n",
        "새롭게 여행한 국가: england\n",
        "방문한 도시: ['london', 'cambridge', 'oxford']\n",
        "총 방문 횟수: 2\n",
        "```"
      ],
      "metadata": {
        "id": "rN2AiOFlDS2v"
      }
    },
    {
      "cell_type": "code",
      "source": [
        "travel_log = [\n",
        "  {\n",
        "    \"country\": \"swiss\",\n",
        "    \"cities_visited\": [\"bern\", \"luzern\", \"interlaken\"],\n",
        "    \"total_visits\": 12\n",
        "  },\n",
        "  {\n",
        "    \"country\": \"italia\",\n",
        "    \"cities_visited\": [\"roma\", \"firenze\", \"napoli\", \"milano\"],\n",
        "    \"total_visits\" : 5\n",
        "  }\n",
        "]\n",
        "\n",
        "def add_new_country(country, cities, visits):"
      ],
      "metadata": {
        "id": "AffumjyjDcBK"
      },
      "execution_count": null,
      "outputs": []
    },
    {
      "cell_type": "markdown",
      "source": [
        "### 03. 경매 프로그램"
      ],
      "metadata": {
        "id": "TFcIXIdcDiZ3"
      }
    },
    {
      "cell_type": "markdown",
      "source": [
        "경매장에서 물건을 경매하기 위해서는 각자 가격을 제시하고 가장 높은 가격을 제시한 사람이 낙찰을 받습니다. 이 과정을 만들어 봅시다.\n",
        "\n",
        "먼저 아래 결과 화면을 보고 프로그램 과정을 유추해 봅시다.\n",
        "\n",
        "output:\n",
        "```\n",
        "what is your name? a\n",
        "What is your bid? $123\n",
        "Are there any other bidders? Type 'yes' or 'no'.\n",
        "yes\n",
        "What is your name? b\n",
        "What is your bid? $234\n",
        "Are there any other bidders? Type 'yes' or 'no'.\n",
        "no\n",
        "The winner is b with a bid of $234\n",
        "```\n",
        "\n",
        "a 라는 사람은 123달러, b 라는 사람은 234달러를 제시했습니다. 더 이상 참가자가 없다면, 지금까지 제시받은 금액 중에서 가장 큰 금액을 낸 사람을 낙찰자로 발표합니다. 이 경우네는 b 가 234달러로 낙찰을 받았습니다.\n",
        "\n",
        "starter code:\n",
        "```\n",
        "bids = {}\n",
        "bidding_finished = False\n",
        "\n",
        "def find_highest_bidder(bidding_record):\n",
        "  ...\n",
        "  print(f\"The winner is {winner} with a bid of ${highest_bid}\")\n",
        "\n",
        "while not bidding_finished:\n",
        "  name = input(\"What is your name? \")\n",
        "  price = input(\"What is your bid? $\")\n",
        "  ...\n",
        "    \n",
        "```\n",
        "\n",
        "위 코드에서 시작해 보세요. 데이터는 딕셔너리에 저장하고, 가장 높은 금액을 제시하는 사람과 가격을 찾아서 결과를 출력하도록 find_highest_bidder() 를 정의해 봅시다. 또한 참가자가 더 이상 없기 전까지는 계속 참가자와 금액을 받아야 합니다."
      ],
      "metadata": {
        "id": "xO_zmQF5DkbB"
      }
    },
    {
      "cell_type": "code",
      "source": [],
      "metadata": {
        "id": "QkeCOlL-FSRi"
      },
      "execution_count": null,
      "outputs": []
    },
    {
      "cell_type": "markdown",
      "source": [
        "### 04. 실습 과제\n",
        "\n",
        "* 지금까지 완성된 코드가 작성된 구글 코랩 노트를 공유하여 아래 링크를 통해 제출하세요.\n",
        "* 구글 코랩 노트 URL 제출 [링크](https://docs.google.com/forms/d/e/1FAIpQLSeCStLYuiyq6kOvdSMDoFNJlpQ1nl0A-5wP6M8uXas-Wfa2EA/viewform?usp=sf_link)\n",
        "* 구글 코랩 문서의 오른쪽 상단에 있는 공유 Share 버튼 클릭 > 접근 권한을 링크를 가진 누구나 뷰어 로 변경 후 제출!\n",
        "* 제출 기한은 6/30(일) 자정까지"
      ],
      "metadata": {
        "id": "QbjF3yHJFT_D"
      }
    }
  ]
}