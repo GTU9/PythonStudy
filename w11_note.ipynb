{
  "nbformat": 4,
  "nbformat_minor": 0,
  "metadata": {
    "colab": {
      "provenance": [],
      "include_colab_link": true
    },
    "kernelspec": {
      "name": "python3",
      "display_name": "Python 3"
    },
    "language_info": {
      "name": "python"
    }
  },
  "cells": [
    {
      "cell_type": "markdown",
      "metadata": {
        "id": "view-in-github",
        "colab_type": "text"
      },
      "source": [
        "<a href=\"https://colab.research.google.com/github/GTU9/PythonStudy/blob/main/w11_note.ipynb\" target=\"_parent\"><img src=\"https://colab.research.google.com/assets/colab-badge.svg\" alt=\"Open In Colab\"/></a>"
      ]
    },
    {
      "cell_type": "markdown",
      "source": [
        "## 01. html file parsing"
      ],
      "metadata": {
        "id": "UXz90n2x4J1h"
      }
    },
    {
      "cell_type": "code",
      "execution_count": 2,
      "metadata": {
        "id": "toE8veFx0BXT"
      },
      "outputs": [],
      "source": [
        "# html 페이지 읽어오기\n",
        "with open('website.html') as file:\n",
        "  contents = file.read()"
      ]
    },
    {
      "cell_type": "code",
      "source": [
        "# beatufulsoup 라이브러리로 html 페이지 파싱하기\n",
        "from bs4 import BeautifulSoup\n",
        "soup = BeautifulSoup(contents, \"html.parser\")"
      ],
      "metadata": {
        "id": "30mZ412z0Y1a"
      },
      "execution_count": 3,
      "outputs": []
    },
    {
      "cell_type": "code",
      "source": [
        "soup"
      ],
      "metadata": {
        "colab": {
          "base_uri": "https://localhost:8080/"
        },
        "id": "6Jg1BA2Y0lC6",
        "outputId": "9d00b9c8-9d53-4b5d-d32e-0650376bc005"
      },
      "execution_count": 4,
      "outputs": [
        {
          "output_type": "execute_result",
          "data": {
            "text/plain": [
              "<!DOCTYPE html>\n",
              "\n",
              "<html>\n",
              "<head>\n",
              "<meta charset=\"utf-8\"/>\n",
              "<title>Student Portfolio</title>\n",
              "</head>\n",
              "<body>\n",
              "<h1 id=\"name\">Jane Smith</h1>\n",
              "<p><em>Student at <strong><a href=\"https://www.exampleuniversity.edu/\">Example University</a></strong>.</em></p>\n",
              "<p>I am a Computer Science student and aspiring Developer. I ❤️ coding and playing basketball.</p>\n",
              "<hr/>\n",
              "<h3 class=\"heading\">Courses and Projects</h3>\n",
              "<ul>\n",
              "<li>Introduction to Computer Science</li>\n",
              "<li>Web Development Basics</li>\n",
              "<li>Machine Learning Fundamentals</li>\n",
              "</ul>\n",
              "<hr/>\n",
              "<h3 class=\"heading\">Other Pages</h3>\n",
              "<a href=\"https://janesmith.github.io/portfolio/hobbies.html\">My Hobbies</a>\n",
              "<a href=\"https://janesmith.github.io/portfolio/contact-me.html\">Contact Me</a>\n",
              "</body>\n",
              "</html>"
            ]
          },
          "metadata": {},
          "execution_count": 4
        }
      ]
    },
    {
      "cell_type": "code",
      "source": [
        "# 페이지 타이틀 태그 정보 출력하기\n",
        "soup.title"
      ],
      "metadata": {
        "colab": {
          "base_uri": "https://localhost:8080/"
        },
        "id": "T5HeJEdZ0oPe",
        "outputId": "86a354c7-8da1-4aff-8f80-6bf9035da770"
      },
      "execution_count": 8,
      "outputs": [
        {
          "output_type": "execute_result",
          "data": {
            "text/plain": [
              "<title>Student Portfolio</title>"
            ]
          },
          "metadata": {},
          "execution_count": 8
        }
      ]
    },
    {
      "cell_type": "code",
      "source": [
        "# 페이지 타이틀 정보만 출력하기\n",
        "soup.title.string"
      ],
      "metadata": {
        "colab": {
          "base_uri": "https://localhost:8080/",
          "height": 35
        },
        "id": "bhmnImae0tfj",
        "outputId": "ebf19c1c-913d-4f00-a5ae-42bb77157bcd"
      },
      "execution_count": 9,
      "outputs": [
        {
          "output_type": "execute_result",
          "data": {
            "text/plain": [
              "'Student Portfolio'"
            ],
            "application/vnd.google.colaboratory.intrinsic+json": {
              "type": "string"
            }
          },
          "metadata": {},
          "execution_count": 9
        }
      ]
    },
    {
      "cell_type": "code",
      "source": [
        "# 들여쓰기가 적용된 html 내용 출력하기\n",
        "print(soup.prettify())\n"
      ],
      "metadata": {
        "colab": {
          "base_uri": "https://localhost:8080/"
        },
        "id": "WW0RcvQT0wit",
        "outputId": "a86f46db-3ebb-4a2b-c58a-fa2f133c0764"
      },
      "execution_count": 7,
      "outputs": [
        {
          "output_type": "stream",
          "name": "stdout",
          "text": [
            "<!DOCTYPE html>\n",
            "<html>\n",
            " <head>\n",
            "  <meta charset=\"utf-8\"/>\n",
            "  <title>\n",
            "   Student Portfolio\n",
            "  </title>\n",
            " </head>\n",
            " <body>\n",
            "  <h1 id=\"name\">\n",
            "   Jane Smith\n",
            "  </h1>\n",
            "  <p>\n",
            "   <em>\n",
            "    Student at\n",
            "    <strong>\n",
            "     <a href=\"https://www.exampleuniversity.edu/\">\n",
            "      Example University\n",
            "     </a>\n",
            "    </strong>\n",
            "    .\n",
            "   </em>\n",
            "  </p>\n",
            "  <p>\n",
            "   I am a Computer Science student and aspiring Developer. I ❤️ coding and playing basketball.\n",
            "  </p>\n",
            "  <hr/>\n",
            "  <h3 class=\"heading\">\n",
            "   Courses and Projects\n",
            "  </h3>\n",
            "  <ul>\n",
            "   <li>\n",
            "    Introduction to Computer Science\n",
            "   </li>\n",
            "   <li>\n",
            "    Web Development Basics\n",
            "   </li>\n",
            "   <li>\n",
            "    Machine Learning Fundamentals\n",
            "   </li>\n",
            "  </ul>\n",
            "  <hr/>\n",
            "  <h3 class=\"heading\">\n",
            "   Other Pages\n",
            "  </h3>\n",
            "  <a href=\"https://janesmith.github.io/portfolio/hobbies.html\">\n",
            "   My Hobbies\n",
            "  </a>\n",
            "  <a href=\"https://janesmith.github.io/portfolio/contact-me.html\">\n",
            "   Contact Me\n",
            "  </a>\n",
            " </body>\n",
            "</html>\n",
            "\n"
          ]
        }
      ]
    },
    {
      "cell_type": "code",
      "source": [
        "# a 태그 정보 출력하기\n",
        "soup.a"
      ],
      "metadata": {
        "colab": {
          "base_uri": "https://localhost:8080/"
        },
        "id": "amUhfLkb0zKD",
        "outputId": "005f0bcf-e7b1-4f70-e527-ee2d5cfdcb9e"
      },
      "execution_count": 10,
      "outputs": [
        {
          "output_type": "execute_result",
          "data": {
            "text/plain": [
              "<a href=\"https://www.exampleuniversity.edu/\">Example University</a>"
            ]
          },
          "metadata": {},
          "execution_count": 10
        }
      ]
    },
    {
      "cell_type": "code",
      "source": [
        "# 모든 a 태그 정보 출력하기\n",
        "all_anchor_tags = soup.find_all(name=\"a\")\n",
        "print(all_anchor_tags)"
      ],
      "metadata": {
        "colab": {
          "base_uri": "https://localhost:8080/"
        },
        "id": "PBMS--qt0_-R",
        "outputId": "e4bab909-d6ca-4f48-96ae-2e18cda1feac"
      },
      "execution_count": 11,
      "outputs": [
        {
          "output_type": "stream",
          "name": "stdout",
          "text": [
            "[<a href=\"https://www.exampleuniversity.edu/\">Example University</a>, <a href=\"https://janesmith.github.io/portfolio/hobbies.html\">My Hobbies</a>, <a href=\"https://janesmith.github.io/portfolio/contact-me.html\">Contact Me</a>]\n"
          ]
        }
      ]
    },
    {
      "cell_type": "code",
      "source": [
        "# 모든 a 태그의 컨텐츠 정보 출력하기\n",
        "for tag in all_anchor_tags:\n",
        "  print(tag.getText())"
      ],
      "metadata": {
        "colab": {
          "base_uri": "https://localhost:8080/"
        },
        "id": "i5aHuAZn1TM9",
        "outputId": "b3a621cb-9e73-4aca-bc1e-fddc61ec0025"
      },
      "execution_count": 12,
      "outputs": [
        {
          "output_type": "stream",
          "name": "stdout",
          "text": [
            "Example University\n",
            "My Hobbies\n",
            "Contact Me\n"
          ]
        }
      ]
    },
    {
      "cell_type": "code",
      "source": [
        "# 모든 a 태그의 링크 정보 출력하기\n",
        "for tag in all_anchor_tags:\n",
        "  print(tag.get(\"href\"))"
      ],
      "metadata": {
        "colab": {
          "base_uri": "https://localhost:8080/"
        },
        "id": "5PW8x2Pu1j5N",
        "outputId": "854c51eb-1d72-43e0-9b93-997299b06da7"
      },
      "execution_count": 13,
      "outputs": [
        {
          "output_type": "stream",
          "name": "stdout",
          "text": [
            "https://www.exampleuniversity.edu/\n",
            "https://janesmith.github.io/portfolio/hobbies.html\n",
            "https://janesmith.github.io/portfolio/contact-me.html\n"
          ]
        }
      ]
    },
    {
      "cell_type": "code",
      "source": [
        "# 태그와 id 를 이용하여 정보 출력하기\n",
        "heading = soup.find(name=\"h1\", id=\"name\")\n",
        "print(heading)"
      ],
      "metadata": {
        "colab": {
          "base_uri": "https://localhost:8080/"
        },
        "id": "qmIPxPP81uAd",
        "outputId": "be53c4e1-c339-4205-a4e4-04bfa2f46bff"
      },
      "execution_count": 14,
      "outputs": [
        {
          "output_type": "stream",
          "name": "stdout",
          "text": [
            "<h1 id=\"name\">Jane Smith</h1>\n"
          ]
        }
      ]
    },
    {
      "cell_type": "code",
      "source": [
        "# 태그와 class 를 이용하여 정보 출력하기\n",
        "section_heading = soup.find(name=\"h3\", class_=\"heading\")\n",
        "print(section_heading)"
      ],
      "metadata": {
        "colab": {
          "base_uri": "https://localhost:8080/"
        },
        "id": "CvgBncAq19Cu",
        "outputId": "6ca66926-2b88-4cb7-f265-e75073a3d3aa"
      },
      "execution_count": 15,
      "outputs": [
        {
          "output_type": "stream",
          "name": "stdout",
          "text": [
            "<h3 class=\"heading\">Courses and Projects</h3>\n"
          ]
        }
      ]
    },
    {
      "cell_type": "code",
      "source": [
        "section_heading = soup.find(name=\"a\")\n",
        "print(section_heading)"
      ],
      "metadata": {
        "colab": {
          "base_uri": "https://localhost:8080/"
        },
        "id": "wJOYHmeU2SwI",
        "outputId": "3bb2e58a-de37-4069-86da-3d606ae9aeb8"
      },
      "execution_count": 20,
      "outputs": [
        {
          "output_type": "stream",
          "name": "stdout",
          "text": [
            "<a href=\"https://www.exampleuniversity.edu/\">Example University</a>\n"
          ]
        }
      ]
    },
    {
      "cell_type": "code",
      "source": [
        "# p 태그 안에 있는 a 태그 정보만 출력하기\n",
        "soup.select_one(selector=\"p a\")"
      ],
      "metadata": {
        "colab": {
          "base_uri": "https://localhost:8080/"
        },
        "id": "nLZ3Yhbn22EF",
        "outputId": "af11ee33-ab34-4bf5-d6b9-6bf23a6fa848"
      },
      "execution_count": 16,
      "outputs": [
        {
          "output_type": "execute_result",
          "data": {
            "text/plain": [
              "<a href=\"https://www.exampleuniversity.edu/\">Example University</a>"
            ]
          },
          "metadata": {},
          "execution_count": 16
        }
      ]
    },
    {
      "cell_type": "markdown",
      "source": [],
      "metadata": {
        "id": "jq3LPnmH4Iiw"
      }
    },
    {
      "cell_type": "code",
      "source": [
        "# id 가 name인 태그 정보 가져오기\n",
        "soup.select_one(selector=\"#name\")"
      ],
      "metadata": {
        "colab": {
          "base_uri": "https://localhost:8080/"
        },
        "id": "Xq5u47_a3OSK",
        "outputId": "28930c9e-bd0d-44d8-f019-44cef2c1f170"
      },
      "execution_count": 22,
      "outputs": [
        {
          "output_type": "execute_result",
          "data": {
            "text/plain": [
              "<h1 id=\"name\">Jane Smith</h1>"
            ]
          },
          "metadata": {},
          "execution_count": 22
        }
      ]
    },
    {
      "cell_type": "code",
      "source": [
        "# class 가 heading 인 코든 태그 정보 출력하기\n",
        "soup.select(selector=\".heading\")"
      ],
      "metadata": {
        "colab": {
          "base_uri": "https://localhost:8080/"
        },
        "id": "hp_HU6ER3We4",
        "outputId": "48baae91-ca69-4b05-d6c0-205f1a37175e"
      },
      "execution_count": 17,
      "outputs": [
        {
          "output_type": "execute_result",
          "data": {
            "text/plain": [
              "[<h3 class=\"heading\">Courses and Projects</h3>,\n",
              " <h3 class=\"heading\">Other Pages</h3>]"
            ]
          },
          "metadata": {},
          "execution_count": 17
        }
      ]
    },
    {
      "cell_type": "markdown",
      "source": [
        "### 03. 연습하기\n",
        "* 다음 웹 페이지 정보를 가지고 문제를 해결해 보세요."
      ],
      "metadata": {
        "id": "-48uOe_7Ta2-"
      }
    },
    {
      "cell_type": "code",
      "source": [
        "# 타이틀 출력하기\n",
        "with open(\"website2.html\") as file:\n",
        "  contents=file.read()\n",
        "soup2=BeautifulSoup(contents,\"html.parser\")\n",
        "\n",
        "soup2.title"
      ],
      "metadata": {
        "id": "vMEVpFpNTf4J",
        "colab": {
          "base_uri": "https://localhost:8080/"
        },
        "outputId": "d0f33edc-6244-41f0-d750-30a6d0131f02"
      },
      "execution_count": 27,
      "outputs": [
        {
          "output_type": "execute_result",
          "data": {
            "text/plain": [
              "<title>The Dormouse's story</title>"
            ]
          },
          "metadata": {},
          "execution_count": 27
        }
      ]
    },
    {
      "cell_type": "code",
      "source": [
        "# 세 자매 이름 출력하기\n",
        "all_anchor_tags = soup.find_all(name=\"a\")\n",
        "for tag in all_anchor_tags:\n",
        "  print(tag.getText())"
      ],
      "metadata": {
        "id": "PjKQFa2DUChI",
        "colab": {
          "base_uri": "https://localhost:8080/"
        },
        "outputId": "ddc4573e-49c2-46bc-cfa0-c438e3a24ed8"
      },
      "execution_count": 32,
      "outputs": [
        {
          "output_type": "stream",
          "name": "stdout",
          "text": [
            "Elsie\n",
            "Lacie\n",
            "Tillie\n"
          ]
        }
      ]
    },
    {
      "cell_type": "code",
      "source": [
        "# 모든 링크 주소 출력하기\n",
        "for tag in all_anchor_tags:\n",
        "  print(tag.get(\"href\"))"
      ],
      "metadata": {
        "id": "MigtKZ3iTrdh",
        "colab": {
          "base_uri": "https://localhost:8080/"
        },
        "outputId": "69f18edb-a2dc-464e-9bfd-3bd185edfbbe"
      },
      "execution_count": 33,
      "outputs": [
        {
          "output_type": "stream",
          "name": "stdout",
          "text": [
            "http://example.com/elsie\n",
            "http://example.com/lacie\n",
            "http://example.com/tillie\n"
          ]
        }
      ]
    },
    {
      "cell_type": "code",
      "source": [
        "# 내용만 출력하기\n",
        "p_tag=soup.select_one(selector=\"p\")\n",
        "print(p_tag.getText())"
      ],
      "metadata": {
        "id": "mIXx8ePkT2Xp",
        "colab": {
          "base_uri": "https://localhost:8080/"
        },
        "outputId": "6e91f1fb-a7d8-4d26-fbf9-bef307006560"
      },
      "execution_count": 36,
      "outputs": [
        {
          "output_type": "stream",
          "name": "stdout",
          "text": [
            "The Dormouse's story\n"
          ]
        }
      ]
    },
    {
      "cell_type": "markdown",
      "source": [
        "## 02. web page parsing"
      ],
      "metadata": {
        "id": "iIb8S5Ca4iQD"
      }
    },
    {
      "cell_type": "markdown",
      "source": [
        "* web page : https://news.ycombinator.com/"
      ],
      "metadata": {
        "id": "OLdywQ8P4vLv"
      }
    },
    {
      "cell_type": "code",
      "source": [
        "# 웹 페이지에서 데이터 가져오기\n",
        "import requests\n",
        "response = requests.get(\"https://news.ycombinator.com/\")\n",
        "response.text"
      ],
      "metadata": {
        "colab": {
          "base_uri": "https://localhost:8080/",
          "height": 164
        },
        "id": "fXUWMxnn3eEE",
        "outputId": "cf281ebc-f00d-40b3-f71d-3be3ee70934b"
      },
      "execution_count": 37,
      "outputs": [
        {
          "output_type": "execute_result",
          "data": {
            "text/plain": [
              "'<html lang=\"en\" op=\"news\"><head><meta name=\"referrer\" content=\"origin\"><meta name=\"viewport\" content=\"width=device-width, initial-scale=1.0\"><link rel=\"stylesheet\" type=\"text/css\" href=\"news.css?R7jsl2afegR0OYqMgZfx\">\\n        <link rel=\"icon\" href=\"y18.svg\">\\n                  <link rel=\"alternate\" type=\"application/rss+xml\" title=\"RSS\" href=\"rss\">\\n        <title>Hacker News</title></head><body><center><table id=\"hnmain\" border=\"0\" cellpadding=\"0\" cellspacing=\"0\" width=\"85%\" bgcolor=\"#f6f6ef\">\\n        <tr><td bgcolor=\"#ff6600\"><table border=\"0\" cellpadding=\"0\" cellspacing=\"0\" width=\"100%\" style=\"padding:2px\"><tr><td style=\"width:18px;padding-right:4px\"><a href=\"https://news.ycombinator.com\"><img src=\"y18.svg\" width=\"18\" height=\"18\" style=\"border:1px white solid; display:block\"></a></td>\\n                  <td style=\"line-height:12pt; height:10px;\"><span class=\"pagetop\"><b class=\"hnname\"><a href=\"news\">Hacker News</a></b>\\n                            <a href=\"newest\">new</a> | <a href=\"front\">past</a> | <a href=\"newcomments\">comments</a> | <a href=\"ask\">ask</a> | <a href=\"show\">show</a> | <a href=\"jobs\">jobs</a> | <a href=\"submit\" rel=\"nofollow\">submit</a>            </span></td><td style=\"text-align:right;padding-right:4px;\"><span class=\"pagetop\">\\n                              <a href=\"login?goto=news\">login</a>\\n                          </span></td>\\n              </tr></table></td></tr>\\n<tr id=\"pagespace\" title=\"\" style=\"height:10px\"></tr><tr><td><table border=\"0\" cellpadding=\"0\" cellspacing=\"0\">\\n            <tr class=\\'athing\\' id=\\'40902740\\'>\\n      <td align=\"right\" valign=\"top\" class=\"title\"><span class=\"rank\">1.</span></td>      <td valign=\"top\" class=\"votelinks\"><center><a id=\\'up_40902740\\' href=\\'vote?id=40902740&amp;how=up&amp;goto=news\\'><div class=\\'votearrow\\' title=\\'upvote\\'></div></a></center></td><td class=\"title\"><span class=\"titleline\"><a href=\"https://brooker.co.za/misc-blog/2024/01/23/skis.html\">Do Skis Get Blunt?</a><span class=\"sitebit comhead\"> (<a href=\"from?site=brooker.co.za\"><span class=\"sitestr\">brooker.co.za</span></a>)</span></span></td></tr><tr><td colspan=\"2\"></td><td class=\"subtext\"><span class=\"subline\">\\n          <span class=\"score\" id=\"score_40902740\">37 points</span> by <a href=\"user?id=luu\" class=\"hnuser\">luu</a> <span class=\"age\" title=\"2024-07-08T05:04:58\"><a href=\"item?id=40902740\">1 hour ago</a></span> <span id=\"unv_40902740\"></span> | <a href=\"hide?id=40902740&amp;goto=news\">hide</a> | <a href=\"item?id=40902740\">13&nbsp;comments</a>        </span>\\n              </td></tr>\\n      <tr class=\"spacer\" style=\"height:5px\"></tr>\\n                <tr class=\\'athing\\' id=\\'40902012\\'>\\n      <td align=\"right\" valign=\"top\" class=\"title\"><span class=\"rank\">2.</span></td>      <td valign=\"top\" class=\"votelinks\"><center><a id=\\'up_40902012\\' href=\\'vote?id=40902012&amp;how=up&amp;goto=news\\'><div class=\\'votearrow\\' title=\\'upvote\\'></div></a></center></td><td class=\"title\"><span class=\"titleline\"><a href=\"https://dgerrells.com/blog/how-fast-is-javascript-simulating-20-000-000-particles\">Show HN: Simulating 20M Particles in JavaScript</a><span class=\"sitebit comhead\"> (<a href=\"from?site=dgerrells.com\"><span class=\"sitestr\">dgerrells.com</span></a>)</span></span></td></tr><tr><td colspan=\"2\"></td><td class=\"subtext\"><span class=\"subline\">\\n          <span class=\"score\" id=\"score_40902012\">157 points</span> by <a href=\"user?id=rustystump\" class=\"hnuser\">rustystump</a> <span class=\"age\" title=\"2024-07-08T01:52:54\"><a href=\"item?id=40902012\">4 hours ago</a></span> <span id=\"unv_40902012\"></span> | <a href=\"hide?id=40902012&amp;goto=news\">hide</a> | <a href=\"item?id=40902012\">22&nbsp;comments</a>        </span>\\n              </td></tr>\\n      <tr class=\"spacer\" style=\"height:5px\"></tr>\\n                <tr class=\\'athing\\' id=\\'40899242\\'>\\n      <td align=\"right\" valign=\"top\" class=\"title\"><span class=\"rank\">3.</span></td>      <td valign=\"top\" class=\"votelinks\"><center><a id=\\'up_40899242\\' href=\\'vote?id=40899242&amp;how=up&amp;goto=news\\'><div class=\\'votearrow\\' title=\\'upvote\\'></div></a></center></td><td class=\"title\"><span class=\"titleline\"><a href=\"https://satyrn.app/\">Show HN: A modern Jupyter client for macOS</a><span class=\"sitebit comhead\"> (<a href=\"from?site=satyrn.app\"><span class=\"sitestr\">satyrn.app</span></a>)</span></span></td></tr><tr><td colspan=\"2\"></td><td class=\"subtext\"><span class=\"subline\">\\n          <span class=\"score\" id=\"score_40899242\">379 points</span> by <a href=\"user?id=jackhodkinson\" class=\"hnuser\">jackhodkinson</a> <span class=\"age\" title=\"2024-07-07T17:59:31\"><a href=\"item?id=40899242\">11 hours ago</a></span> <span id=\"unv_40899242\"></span> | <a href=\"hide?id=40899242&amp;goto=news\">hide</a> | <a href=\"item?id=40899242\">101&nbsp;comments</a>        </span>\\n              </td></tr>\\n      <tr class=\"spacer\" style=\"height:5px\"></tr>\\n                <tr class=\\'athing\\' id=\\'40899309\\'>\\n      <td align=\"right\" valign=\"top\" class=\"title\"><span class=\"rank\">4.</span></td>      <td valign=\"top\" class=\"votelinks\"><center><a id=\\'up_40899309\\' href=\\'vote?id=40899309&amp;how=up&amp;goto=news\\'><div class=\\'votearrow\\' title=\\'upvote\\'></div></a></center></td><td class=\"title\"><span class=\"titleline\"><a href=\"https://arxiv.org/abs/2407.02678\">Reasoning in Large Language Models: A Geometric Perspective</a><span class=\"sitebit comhead\"> (<a href=\"from?site=arxiv.org\"><span class=\"sitestr\">arxiv.org</span></a>)</span></span></td></tr><tr><td colspan=\"2\"></td><td class=\"subtext\"><span class=\"subline\">\\n          <span class=\"score\" id=\"score_40899309\">145 points</span> by <a href=\"user?id=belter\" class=\"hnuser\">belter</a> <span class=\"age\" title=\"2024-07-07T18:09:25\"><a href=\"item?id=40899309\">12 hours ago</a></span> <span id=\"unv_40899309\"></span> | <a href=\"hide?id=40899309&amp;goto=news\">hide</a> | <a href=\"item?id=40899309\">65&nbsp;comments</a>        </span>\\n              </td></tr>\\n      <tr class=\"spacer\" style=\"height:5px\"></tr>\\n                <tr class=\\'athing\\' id=\\'40899393\\'>\\n      <td align=\"right\" valign=\"top\" class=\"title\"><span class=\"rank\">5.</span></td>      <td valign=\"top\" class=\"votelinks\"><center><a id=\\'up_40899393\\' href=\\'vote?id=40899393&amp;how=up&amp;goto=news\\'><div class=\\'votearrow\\' title=\\'upvote\\'></div></a></center></td><td class=\"title\"><span class=\"titleline\"><a href=\"http://www.righto.com/2024/07/pentium-standard-cells.html\">Standard cells: Looking at individual gates in the Pentium processor</a><span class=\"sitebit comhead\"> (<a href=\"from?site=righto.com\"><span class=\"sitestr\">righto.com</span></a>)</span></span></td></tr><tr><td colspan=\"2\"></td><td class=\"subtext\"><span class=\"subline\">\\n          <span class=\"score\" id=\"score_40899393\">134 points</span> by <a href=\"user?id=todsacerdoti\" class=\"hnuser\">todsacerdoti</a> <span class=\"age\" title=\"2024-07-07T18:19:49\"><a href=\"item?id=40899393\">11 hours ago</a></span> <span id=\"unv_40899393\"></span> | <a href=\"hide?id=40899393&amp;goto=news\">hide</a> | <a href=\"item?id=40899393\">66&nbsp;comments</a>        </span>\\n              </td></tr>\\n      <tr class=\"spacer\" style=\"height:5px\"></tr>\\n                <tr class=\\'athing\\' id=\\'40880302\\'>\\n      <td align=\"right\" valign=\"top\" class=\"title\"><span class=\"rank\">6.</span></td>      <td valign=\"top\" class=\"votelinks\"><center><a id=\\'up_40880302\\' href=\\'vote?id=40880302&amp;how=up&amp;goto=news\\'><div class=\\'votearrow\\' title=\\'upvote\\'></div></a></center></td><td class=\"title\"><span class=\"titleline\"><a href=\"https://spectrum.ieee.org/detect-migrating-birds-with-sound\">Detect Migrating Birds with a Plastic Dish and a Cheap Microphone</a><span class=\"sitebit comhead\"> (<a href=\"from?site=ieee.org\"><span class=\"sitestr\">ieee.org</span></a>)</span></span></td></tr><tr><td colspan=\"2\"></td><td class=\"subtext\"><span class=\"subline\">\\n          <span class=\"score\" id=\"score_40880302\">67 points</span> by <a href=\"user?id=cyberlimerence\" class=\"hnuser\">cyberlimerence</a> <span class=\"age\" title=\"2024-07-05T06:41:50\"><a href=\"item?id=40880302\">9 hours ago</a></span> <span id=\"unv_40880302\"></span> | <a href=\"hide?id=40880302&amp;goto=news\">hide</a> | <a href=\"item?id=40880302\">4&nbsp;comments</a>        </span>\\n              </td></tr>\\n      <tr class=\"spacer\" style=\"height:5px\"></tr>\\n                <tr class=\\'athing\\' id=\\'40897506\\'>\\n      <td align=\"right\" valign=\"top\" class=\"title\"><span class=\"rank\">7.</span></td>      <td valign=\"top\" class=\"votelinks\"><center><a id=\\'up_40897506\\' href=\\'vote?id=40897506&amp;how=up&amp;goto=news\\'><div class=\\'votearrow\\' title=\\'upvote\\'></div></a></center></td><td class=\"title\"><span class=\"titleline\"><a href=\"https://notes.eatonphil.com/2024-07-07-systems-meetups.html\">A reawakening of systems programming meetups</a><span class=\"sitebit comhead\"> (<a href=\"from?site=eatonphil.com\"><span class=\"sitestr\">eatonphil.com</span></a>)</span></span></td></tr><tr><td colspan=\"2\"></td><td class=\"subtext\"><span class=\"subline\">\\n          <span class=\"score\" id=\"score_40897506\">281 points</span> by <a href=\"user?id=paulgb\" class=\"hnuser\">paulgb</a> <span class=\"age\" title=\"2024-07-07T13:20:37\"><a href=\"item?id=40897506\">16 hours ago</a></span> <span id=\"unv_40897506\"></span> | <a href=\"hide?id=40897506&amp;goto=news\">hide</a> | <a href=\"item?id=40897506\">113&nbsp;comments</a>        </span>\\n              </td></tr>\\n      <tr class=\"spacer\" style=\"height:5px\"></tr>\\n                <tr class=\\'athing\\' id=\\'40878900\\'>\\n      <td align=\"right\" valign=\"top\" class=\"title\"><span class=\"rank\">8.</span></td>      <td valign=\"top\" class=\"votelinks\"><center><a id=\\'up_40878900\\' href=\\'vote?id=40878900&amp;how=up&amp;goto=news\\'><div class=\\'votearrow\\' title=\\'upvote\\'></div></a></center></td><td class=\"title\"><span class=\"titleline\"><a href=\"https://learn.microsoft.com/en-us/windows/powertoys/run\">PowerToys Run: extensible quick launcher for power users</a><span class=\"sitebit comhead\"> (<a href=\"from?site=microsoft.com\"><span class=\"sitestr\">microsoft.com</span></a>)</span></span></td></tr><tr><td colspan=\"2\"></td><td class=\"subtext\"><span class=\"subline\">\\n          <span class=\"score\" id=\"score_40878900\">18 points</span> by <a href=\"user?id=nateb2022\" class=\"hnuser\">nateb2022</a> <span class=\"age\" title=\"2024-07-04T23:42:32\"><a href=\"item?id=40878900\">4 hours ago</a></span> <span id=\"unv_40878900\"></span> | <a href=\"hide?id=40878900&amp;goto=news\">hide</a> | <a href=\"item?id=40878900\">7&nbsp;comments</a>        </span>\\n              </td></tr>\\n      <tr class=\"spacer\" style=\"height:5px\"></tr>\\n                <tr class=\\'athing\\' id=\\'40880551\\'>\\n      <td align=\"right\" valign=\"top\" class=\"title\"><span class=\"rank\">9.</span></td>      <td valign=\"top\" class=\"votelinks\"><center><a id=\\'up_40880551\\' href=\\'vote?id=40880551&amp;how=up&amp;goto=news\\'><div class=\\'votearrow\\' title=\\'upvote\\'></div></a></center></td><td class=\"title\"><span class=\"titleline\"><a href=\"https://www.advancedsciencenews.com/tiny-robots-with-a-big-impact-scientists-develop-microrobots-for-single-cell-handling/\">Tiny robots with a big impact: microrobots for single-cell handling</a><span class=\"sitebit comhead\"> (<a href=\"from?site=advancedsciencenews.com\"><span class=\"sitestr\">advancedsciencenews.com</span></a>)</span></span></td></tr><tr><td colspan=\"2\"></td><td class=\"subtext\"><span class=\"subline\">\\n          <span class=\"score\" id=\"score_40880551\">27 points</span> by <a href=\"user?id=mdp2021\" class=\"hnuser\">mdp2021</a> <span class=\"age\" title=\"2024-07-05T07:38:09\"><a href=\"item?id=40880551\">6 hours ago</a></span> <span id=\"unv_40880551\"></span> | <a href=\"hide?id=40880551&amp;goto=news\">hide</a> | <a href=\"item?id=40880551\">3&nbsp;comments</a>        </span>\\n              </td></tr>\\n      <tr class=\"spacer\" style=\"height:5px\"></tr>\\n                <tr class=\\'athing\\' id=\\'40902826\\'>\\n      <td align=\"right\" valign=\"top\" class=\"title\"><span class=\"rank\">10.</span></td>      <td valign=\"top\" class=\"votelinks\"><center><a id=\\'up_40902826\\' href=\\'vote?id=40902826&amp;how=up&amp;goto=news\\'><div class=\\'votearrow\\' title=\\'upvote\\'></div></a></center></td><td class=\"title\"><span class=\"titleline\"><a href=\"https://old.reddit.com/r/programming/comments/1dxmroj/zed_editor_automatically_downloads_binaries_and/\" rel=\"nofollow\">Zed Editor automatically downloads binaries and NPM packages without consent</a><span class=\"sitebit comhead\"> (<a href=\"from?site=reddit.com\"><span class=\"sitestr\">reddit.com</span></a>)</span></span></td></tr><tr><td colspan=\"2\"></td><td class=\"subtext\"><span class=\"subline\">\\n          <span class=\"score\" id=\"score_40902826\">7 points</span> by <a href=\"user?id=gantengx\" class=\"hnuser\">gantengx</a> <span class=\"age\" title=\"2024-07-08T05:26:09\"><a href=\"item?id=40902826\">45 minutes ago</a></span> <span id=\"unv_40902826\"></span> | <a href=\"hide?id=40902826&amp;goto=news\">hide</a> | <a href=\"item?id=40902826\">discuss</a>        </span>\\n              </td></tr>\\n      <tr class=\"spacer\" style=\"height:5px\"></tr>\\n                <tr class=\\'athing\\' id=\\'40899371\\'>\\n      <td align=\"right\" valign=\"top\" class=\"title\"><span class=\"rank\">11.</span></td>      <td valign=\"top\" class=\"votelinks\"><center><a id=\\'up_40899371\\' href=\\'vote?id=40899371&amp;how=up&amp;goto=news\\'><div class=\\'votearrow\\' title=\\'upvote\\'></div></a></center></td><td class=\"title\"><span class=\"titleline\"><a href=\"https://github.com/virtualsquare/vde-2\">VDEv2: Virtual Distributed Ethernet</a><span class=\"sitebit comhead\"> (<a href=\"from?site=github.com/virtualsquare\"><span class=\"sitestr\">github.com/virtualsquare</span></a>)</span></span></td></tr><tr><td colspan=\"2\"></td><td class=\"subtext\"><span class=\"subline\">\\n          <span class=\"score\" id=\"score_40899371\">63 points</span> by <a href=\"user?id=ingve\" class=\"hnuser\">ingve</a> <span class=\"age\" title=\"2024-07-07T18:16:51\"><a href=\"item?id=40899371\">11 hours ago</a></span> <span id=\"unv_40899371\"></span> | <a href=\"hide?id=40899371&amp;goto=news\">hide</a> | <a href=\"item?id=40899371\">16&nbsp;comments</a>        </span>\\n              </td></tr>\\n      <tr class=\"spacer\" style=\"height:5px\"></tr>\\n                <tr class=\\'athing\\' id=\\'40876840\\'>\\n      <td align=\"right\" valign=\"top\" class=\"title\"><span class=\"rank\">12.</span></td>      <td valign=\"top\" class=\"votelinks\"><center><a id=\\'up_40876840\\' href=\\'vote?id=40876840&amp;how=up&amp;goto=news\\'><div class=\\'votearrow\\' title=\\'upvote\\'></div></a></center></td><td class=\"title\"><span class=\"titleline\"><a href=\"https://github.com/KwaiVGI/LivePortrait\">LivePortrait: A fast, controllable portrait animation model</a><span class=\"sitebit comhead\"> (<a href=\"from?site=github.com/kwaivgi\"><span class=\"sitestr\">github.com/kwaivgi</span></a>)</span></span></td></tr><tr><td colspan=\"2\"></td><td class=\"subtext\"><span class=\"subline\">\\n          <span class=\"score\" id=\"score_40876840\">123 points</span> by <a href=\"user?id=cleardusk\" class=\"hnuser\">cleardusk</a> <span class=\"age\" title=\"2024-07-04T18:02:50\"><a href=\"item?id=40876840\">15 hours ago</a></span> <span id=\"unv_40876840\"></span> | <a href=\"hide?id=40876840&amp;goto=news\">hide</a> | <a href=\"item?id=40876840\">19&nbsp;comments</a>        </span>\\n              </td></tr>\\n      <tr class=\"spacer\" style=\"height:5px\"></tr>\\n                <tr class=\\'athing\\' id=\\'40891659\\'>\\n      <td align=\"right\" valign=\"top\" class=\"title\"><span class=\"rank\">13.</span></td>      <td valign=\"top\" class=\"votelinks\"><center><a id=\\'up_40891659\\' href=\\'vote?id=40891659&amp;how=up&amp;goto=news\\'><div class=\\'votearrow\\' title=\\'upvote\\'></div></a></center></td><td class=\"title\"><span class=\"titleline\"><a href=\"https://bolides.seti.org/\">Interactive Bolide Data Visualizer</a><span class=\"sitebit comhead\"> (<a href=\"from?site=seti.org\"><span class=\"sitestr\">seti.org</span></a>)</span></span></td></tr><tr><td colspan=\"2\"></td><td class=\"subtext\"><span class=\"subline\">\\n          <span class=\"score\" id=\"score_40891659\">17 points</span> by <a href=\"user?id=keepamovin\" class=\"hnuser\">keepamovin</a> <span class=\"age\" title=\"2024-07-06T17:01:50\"><a href=\"item?id=40891659\">7 hours ago</a></span> <span id=\"unv_40891659\"></span> | <a href=\"hide?id=40891659&amp;goto=news\">hide</a> | <a href=\"item?id=40891659\">1&nbsp;comment</a>        </span>\\n              </td></tr>\\n      <tr class=\"spacer\" style=\"height:5px\"></tr>\\n                <tr class=\\'athing\\' id=\\'40897518\\'>\\n      <td align=\"right\" valign=\"top\" class=\"title\"><span class=\"rank\">14.</span></td>      <td valign=\"top\" class=\"votelinks\"><center><a id=\\'up_40897518\\' href=\\'vote?id=40897518&amp;how=up&amp;goto=news\\'><div class=\\'votearrow\\' title=\\'upvote\\'></div></a></center></td><td class=\"title\"><span class=\"titleline\"><a href=\"https://github.com/event-driven-io/Pongo\">Mongo but on Postgres and with strong consistency benefits</a><span class=\"sitebit comhead\"> (<a href=\"from?site=github.com/event-driven-io\"><span class=\"sitestr\">github.com/event-driven-io</span></a>)</span></span></td></tr><tr><td colspan=\"2\"></td><td class=\"subtext\"><span class=\"subline\">\\n          <span class=\"score\" id=\"score_40897518\">216 points</span> by <a href=\"user?id=oskar_dudycz\" class=\"hnuser\">oskar_dudycz</a> <span class=\"age\" title=\"2024-07-07T13:22:12\"><a href=\"item?id=40897518\">16 hours ago</a></span> <span id=\"unv_40897518\"></span> | <a href=\"hide?id=40897518&amp;goto=news\">hide</a> | <a href=\"item?id=40897518\">123&nbsp;comments</a>        </span>\\n              </td></tr>\\n      <tr class=\"spacer\" style=\"height:5px\"></tr>\\n                <tr class=\\'athing\\' id=\\'40867585\\'>\\n      <td align=\"right\" valign=\"top\" class=\"title\"><span class=\"rank\">15.</span></td>      <td valign=\"top\" class=\"votelinks\"><center><a id=\\'up_40867585\\' href=\\'vote?id=40867585&amp;how=up&amp;goto=news\\'><div class=\\'votearrow\\' title=\\'upvote\\'></div></a></center></td><td class=\"title\"><span class=\"titleline\"><a href=\"https://alien-project.gitbook.io/docs\">Artificial LIfe ENvironment (ALIEN) is an artificial life simulation tool</a><span class=\"sitebit comhead\"> (<a href=\"from?site=gitbook.io\"><span class=\"sitestr\">gitbook.io</span></a>)</span></span></td></tr><tr><td colspan=\"2\"></td><td class=\"subtext\"><span class=\"subline\">\\n          <span class=\"score\" id=\"score_40867585\">136 points</span> by <a href=\"user?id=Bluestein\" class=\"hnuser\">Bluestein</a> <span class=\"age\" title=\"2024-07-03T16:33:39\"><a href=\"item?id=40867585\">21 hours ago</a></span> <span id=\"unv_40867585\"></span> | <a href=\"hide?id=40867585&amp;goto=news\">hide</a> | <a href=\"item?id=40867585\">29&nbsp;comments</a>        </span>\\n              </td></tr>\\n      <tr class=\"spacer\" style=\"height:5px\"></tr>\\n                <tr class=\\'athing\\' id=\\'40900029\\'>\\n      <td align=\"right\" valign=\"top\" class=\"title\"><span class=\"rank\">16.</span></td>      <td valign=\"top\" class=\"votelinks\"><center><a id=\\'up_40900029\\' href=\\'vote?id=40900029&amp;how=up&amp;goto=news\\'><div class=\\'votearrow\\' title=\\'upvote\\'></div></a></center></td><td class=\"title\"><span class=\"titleline\"><a href=\"https://unit.software/\">Unit is a general purpose visual programming system</a><span class=\"sitebit comhead\"> (<a href=\"from?site=unit.software\"><span class=\"sitestr\">unit.software</span></a>)</span></span></td></tr><tr><td colspan=\"2\"></td><td class=\"subtext\"><span class=\"subline\">\\n          <span class=\"score\" id=\"score_40900029\">42 points</span> by <a href=\"user?id=puuush\" class=\"hnuser\">puuush</a> <span class=\"age\" title=\"2024-07-07T19:58:22\"><a href=\"item?id=40900029\">10 hours ago</a></span> <span id=\"unv_40900029\"></span> | <a href=\"hide?id=40900029&amp;goto=news\">hide</a> | <a href=\"item?id=40900029\">11&nbsp;comments</a>        </span>\\n              </td></tr>\\n      <tr class=\"spacer\" style=\"height:5px\"></tr>\\n                <tr class=\\'athing\\' id=\\'40899281\\'>\\n      <td align=\"right\" valign=\"top\" class=\"title\"><span class=\"rank\">17.</span></td>      <td valign=\"top\" class=\"votelinks\"><center><a id=\\'up_40899281\\' href=\\'vote?id=40899281&amp;how=up&amp;goto=news\\'><div class=\\'votearrow\\' title=\\'upvote\\'></div></a></center></td><td class=\"title\"><span class=\"titleline\"><a href=\"https://hbr.org/2005/01/managing-oneself\">Managing Oneself (2005)</a><span class=\"sitebit comhead\"> (<a href=\"from?site=hbr.org\"><span class=\"sitestr\">hbr.org</span></a>)</span></span></td></tr><tr><td colspan=\"2\"></td><td class=\"subtext\"><span class=\"subline\">\\n          <span class=\"score\" id=\"score_40899281\">76 points</span> by <a href=\"user?id=bx376\" class=\"hnuser\">bx376</a> <span class=\"age\" title=\"2024-07-07T18:04:38\"><a href=\"item?id=40899281\">12 hours ago</a></span> <span id=\"unv_40899281\"></span> | <a href=\"hide?id=40899281&amp;goto=news\">hide</a> | <a href=\"item?id=40899281\">12&nbsp;comments</a>        </span>\\n              </td></tr>\\n      <tr class=\"spacer\" style=\"height:5px\"></tr>\\n                <tr class=\\'athing\\' id=\\'40866883\\'>\\n      <td align=\"right\" valign=\"top\" class=\"title\"><span class=\"rank\">18.</span></td>      <td valign=\"top\" class=\"votelinks\"><center><a id=\\'up_40866883\\' href=\\'vote?id=40866883&amp;how=up&amp;goto=news\\'><div class=\\'votearrow\\' title=\\'upvote\\'></div></a></center></td><td class=\"title\"><span class=\"titleline\"><a href=\"https://jdh.hamkins.org/how-ch-could-have-been-fundamental/\">How the continuum hypothesis could have been a fundamental axiom</a><span class=\"sitebit comhead\"> (<a href=\"from?site=hamkins.org\"><span class=\"sitestr\">hamkins.org</span></a>)</span></span></td></tr><tr><td colspan=\"2\"></td><td class=\"subtext\"><span class=\"subline\">\\n          <span class=\"score\" id=\"score_40866883\">54 points</span> by <a href=\"user?id=FillMaths\" class=\"hnuser\">FillMaths</a> <span class=\"age\" title=\"2024-07-03T15:25:01\"><a href=\"item?id=40866883\">9 hours ago</a></span> <span id=\"unv_40866883\"></span> | <a href=\"hide?id=40866883&amp;goto=news\">hide</a> | <a href=\"item?id=40866883\">29&nbsp;comments</a>        </span>\\n              </td></tr>\\n      <tr class=\"spacer\" style=\"height:5px\"></tr>\\n                <tr class=\\'athing\\' id=\\'40895672\\'>\\n      <td align=\"right\" valign=\"top\" class=\"title\"><span class=\"rank\">19.</span></td>      <td valign=\"top\" class=\"votelinks\"><center><a id=\\'up_40895672\\' href=\\'vote?id=40895672&amp;how=up&amp;goto=news\\'><div class=\\'votearrow\\' title=\\'upvote\\'></div></a></center></td><td class=\"title\"><span class=\"titleline\"><a href=\"https://beacondb.net/\">Show HN: BeaconDB – An Alternative to Mozilla Location Services</a><span class=\"sitebit comhead\"> (<a href=\"from?site=beacondb.net\"><span class=\"sitestr\">beacondb.net</span></a>)</span></span></td></tr><tr><td colspan=\"2\"></td><td class=\"subtext\"><span class=\"subline\">\\n          <span class=\"score\" id=\"score_40895672\">200 points</span> by <a href=\"user?id=joelkoen\" class=\"hnuser\">joelkoen</a> <span class=\"age\" title=\"2024-07-07T06:25:50\"><a href=\"item?id=40895672\">23 hours ago</a></span> <span id=\"unv_40895672\"></span> | <a href=\"hide?id=40895672&amp;goto=news\">hide</a> | <a href=\"item?id=40895672\">47&nbsp;comments</a>        </span>\\n              </td></tr>\\n      <tr class=\"spacer\" style=\"height:5px\"></tr>\\n                <tr class=\\'athing\\' id=\\'40896873\\'>\\n      <td align=\"right\" valign=\"top\" class=\"title\"><span class=\"rank\">20.</span></td>      <td valign=\"top\" class=\"votelinks\"><center><a id=\\'up_40896873\\' href=\\'vote?id=40896873&amp;how=up&amp;goto=news\\'><div class=\\'votearrow\\' title=\\'upvote\\'></div></a></center></td><td class=\"title\"><span class=\"titleline\"><a href=\"https://github.com/sebastianwessel/quickjs\">Show HN: Execute JavaScript in a WebAssembly QuickJS sandbox</a><span class=\"sitebit comhead\"> (<a href=\"from?site=github.com/sebastianwessel\"><span class=\"sitestr\">github.com/sebastianwessel</span></a>)</span></span></td></tr><tr><td colspan=\"2\"></td><td class=\"subtext\"><span class=\"subline\">\\n          <span class=\"score\" id=\"score_40896873\">160 points</span> by <a href=\"user?id=sebastianwessel\" class=\"hnuser\">sebastianwessel</a> <span class=\"age\" title=\"2024-07-07T11:37:25\"><a href=\"item?id=40896873\">18 hours ago</a></span> <span id=\"unv_40896873\"></span> | <a href=\"hide?id=40896873&amp;goto=news\">hide</a> | <a href=\"item?id=40896873\">45&nbsp;comments</a>        </span>\\n              </td></tr>\\n      <tr class=\"spacer\" style=\"height:5px\"></tr>\\n                <tr class=\\'athing\\' id=\\'40900417\\'>\\n      <td align=\"right\" valign=\"top\" class=\"title\"><span class=\"rank\">21.</span></td>      <td><img src=\"s.gif\" height=\"1\" width=\"14\"></td>       <td class=\"title\"><span class=\"titleline\"><a href=\"https://www.ycombinator.com/companies/continue/jobs/smcxRnM-full-stack-engineer\">Continue (YC S23) Is Hiring a Full-Stack Engineer in San Francisco</a><span class=\"sitebit comhead\"> (<a href=\"from?site=ycombinator.com\"><span class=\"sitestr\">ycombinator.com</span></a>)</span></span></td></tr><tr><td colspan=\"2\"></td><td class=\"subtext\">\\n        <span class=\"age\" title=\"2024-07-07T21:01:44\"><a href=\"item?id=40900417\">9 hours ago</a></span> | <a href=\"hide?id=40900417&amp;goto=news\">hide</a>      </td></tr>\\n      <tr class=\"spacer\" style=\"height:5px\"></tr>\\n                <tr class=\\'athing\\' id=\\'40901623\\'>\\n      <td align=\"right\" valign=\"top\" class=\"title\"><span class=\"rank\">22.</span></td>      <td valign=\"top\" class=\"votelinks\"><center><a id=\\'up_40901623\\' href=\\'vote?id=40901623&amp;how=up&amp;goto=news\\'><div class=\\'votearrow\\' title=\\'upvote\\'></div></a></center></td><td class=\"title\"><span class=\"titleline\"><a href=\"https://noamzeise.com/2024/07/05/mini-monitor.html\" rel=\"nofollow\">A Mini Monitor for a Pi</a><span class=\"sitebit comhead\"> (<a href=\"from?site=noamzeise.com\"><span class=\"sitestr\">noamzeise.com</span></a>)</span></span></td></tr><tr><td colspan=\"2\"></td><td class=\"subtext\"><span class=\"subline\">\\n          <span class=\"score\" id=\"score_40901623\">19 points</span> by <a href=\"user?id=nomza\" class=\"hnuser\">nomza</a> <span class=\"age\" title=\"2024-07-08T00:27:58\"><a href=\"item?id=40901623\">5 hours ago</a></span> <span id=\"unv_40901623\"></span> | <a href=\"hide?id=40901623&amp;goto=news\">hide</a> | <a href=\"item?id=40901623\">7&nbsp;comments</a>        </span>\\n              </td></tr>\\n      <tr class=\"spacer\" style=\"height:5px\"></tr>\\n                <tr class=\\'athing\\' id=\\'40898313\\'>\\n      <td align=\"right\" valign=\"top\" class=\"title\"><span class=\"rank\">23.</span></td>      <td valign=\"top\" class=\"votelinks\"><center><a id=\\'up_40898313\\' href=\\'vote?id=40898313&amp;how=up&amp;goto=news\\'><div class=\\'votearrow\\' title=\\'upvote\\'></div></a></center></td><td class=\"title\"><span class=\"titleline\"><a href=\"https://github.com/ElliotKillick/rss2newsletter\">Show HN: I made an open source Mailchimp RSS-to-Email alternative</a><span class=\"sitebit comhead\"> (<a href=\"from?site=github.com/elliotkillick\"><span class=\"sitestr\">github.com/elliotkillick</span></a>)</span></span></td></tr><tr><td colspan=\"2\"></td><td class=\"subtext\"><span class=\"subline\">\\n          <span class=\"score\" id=\"score_40898313\">66 points</span> by <a href=\"user?id=elliotkillick\" class=\"hnuser\">elliotkillick</a> <span class=\"age\" title=\"2024-07-07T15:26:07\"><a href=\"item?id=40898313\">14 hours ago</a></span> <span id=\"unv_40898313\"></span> | <a href=\"hide?id=40898313&amp;goto=news\">hide</a> | <a href=\"item?id=40898313\">16&nbsp;comments</a>        </span>\\n              </td></tr>\\n      <tr class=\"spacer\" style=\"height:5px\"></tr>\\n                <tr class=\\'athing\\' id=\\'40866069\\'>\\n      <td align=\"right\" valign=\"top\" class=\"title\"><span class=\"rank\">24.</span></td>      <td valign=\"top\" class=\"votelinks\"><center><a id=\\'up_40866069\\' href=\\'vote?id=40866069&amp;how=up&amp;goto=news\\'><div class=\\'votearrow\\' title=\\'upvote\\'></div></a></center></td><td class=\"title\"><span class=\"titleline\"><a href=\"https://github.com/mathialo/bython\">Python with Braces</a><span class=\"sitebit comhead\"> (<a href=\"from?site=github.com/mathialo\"><span class=\"sitestr\">github.com/mathialo</span></a>)</span></span></td></tr><tr><td colspan=\"2\"></td><td class=\"subtext\"><span class=\"subline\">\\n          <span class=\"score\" id=\"score_40866069\">126 points</span> by <a href=\"user?id=punnerud\" class=\"hnuser\">punnerud</a> <span class=\"age\" title=\"2024-07-03T14:05:30\"><a href=\"item?id=40866069\">13 hours ago</a></span> <span id=\"unv_40866069\"></span> | <a href=\"hide?id=40866069&amp;goto=news\">hide</a> | <a href=\"item?id=40866069\">155&nbsp;comments</a>        </span>\\n              </td></tr>\\n      <tr class=\"spacer\" style=\"height:5px\"></tr>\\n                <tr class=\\'athing\\' id=\\'40892636\\'>\\n      <td align=\"right\" valign=\"top\" class=\"title\"><span class=\"rank\">25.</span></td>      <td valign=\"top\" class=\"votelinks\"><center><a id=\\'up_40892636\\' href=\\'vote?id=40892636&amp;how=up&amp;goto=news\\'><div class=\\'votearrow\\' title=\\'upvote\\'></div></a></center></td><td class=\"title\"><span class=\"titleline\"><a href=\"https://leancrew.com/all-this/2024/07/numeronymize/\">Numeronymize</a><span class=\"sitebit comhead\"> (<a href=\"from?site=leancrew.com\"><span class=\"sitestr\">leancrew.com</span></a>)</span></span></td></tr><tr><td colspan=\"2\"></td><td class=\"subtext\"><span class=\"subline\">\\n          <span class=\"score\" id=\"score_40892636\">46 points</span> by <a href=\"user?id=surprisetalk\" class=\"hnuser\">surprisetalk</a> <span class=\"age\" title=\"2024-07-06T19:31:49\"><a href=\"item?id=40892636\">16 hours ago</a></span> <span id=\"unv_40892636\"></span> | <a href=\"hide?id=40892636&amp;goto=news\">hide</a> | <a href=\"item?id=40892636\">35&nbsp;comments</a>        </span>\\n              </td></tr>\\n      <tr class=\"spacer\" style=\"height:5px\"></tr>\\n                <tr class=\\'athing\\' id=\\'40899411\\'>\\n      <td align=\"right\" valign=\"top\" class=\"title\"><span class=\"rank\">26.</span></td>      <td valign=\"top\" class=\"votelinks\"><center><a id=\\'up_40899411\\' href=\\'vote?id=40899411&amp;how=up&amp;goto=news\\'><div class=\\'votearrow\\' title=\\'upvote\\'></div></a></center></td><td class=\"title\"><span class=\"titleline\"><a href=\"https://royalsocietypublishing.org/doi/10.1098/rstb.2018.0372\">A brief history of liquid computers (2019)</a><span class=\"sitebit comhead\"> (<a href=\"from?site=royalsocietypublishing.org\"><span class=\"sitestr\">royalsocietypublishing.org</span></a>)</span></span></td></tr><tr><td colspan=\"2\"></td><td class=\"subtext\"><span class=\"subline\">\\n          <span class=\"score\" id=\"score_40899411\">33 points</span> by <a href=\"user?id=adrian_mrd\" class=\"hnuser\">adrian_mrd</a> <span class=\"age\" title=\"2024-07-07T18:21:11\"><a href=\"item?id=40899411\">11 hours ago</a></span> <span id=\"unv_40899411\"></span> | <a href=\"hide?id=40899411&amp;goto=news\">hide</a> | <a href=\"item?id=40899411\">17&nbsp;comments</a>        </span>\\n              </td></tr>\\n      <tr class=\"spacer\" style=\"height:5px\"></tr>\\n                <tr class=\\'athing\\' id=\\'40898640\\'>\\n      <td align=\"right\" valign=\"top\" class=\"title\"><span class=\"rank\">27.</span></td>      <td valign=\"top\" class=\"votelinks\"><center><a id=\\'up_40898640\\' href=\\'vote?id=40898640&amp;how=up&amp;goto=news\\'><div class=\\'votearrow\\' title=\\'upvote\\'></div></a></center></td><td class=\"title\"><span class=\"titleline\"><a href=\"https://github.com/pythops/impala\">TUI for Managing WiFi on Linux</a><span class=\"sitebit comhead\"> (<a href=\"from?site=github.com/pythops\"><span class=\"sitestr\">github.com/pythops</span></a>)</span></span></td></tr><tr><td colspan=\"2\"></td><td class=\"subtext\"><span class=\"subline\">\\n          <span class=\"score\" id=\"score_40898640\">33 points</span> by <a href=\"user?id=pythops\" class=\"hnuser\">pythops</a> <span class=\"age\" title=\"2024-07-07T16:25:31\"><a href=\"item?id=40898640\">13 hours ago</a></span> <span id=\"unv_40898640\"></span> | <a href=\"hide?id=40898640&amp;goto=news\">hide</a> | <a href=\"item?id=40898640\">5&nbsp;comments</a>        </span>\\n              </td></tr>\\n      <tr class=\"spacer\" style=\"height:5px\"></tr>\\n                <tr class=\\'athing\\' id=\\'40899487\\'>\\n      <td align=\"right\" valign=\"top\" class=\"title\"><span class=\"rank\">28.</span></td>      <td valign=\"top\" class=\"votelinks\"><center><a id=\\'up_40899487\\' href=\\'vote?id=40899487&amp;how=up&amp;goto=news\\'><div class=\\'votearrow\\' title=\\'upvote\\'></div></a></center></td><td class=\"title\"><span class=\"titleline\"><a href=\"https://www.economist.com/technology-quarterly/2024/07/01/sometimes-the-old-ways-of-espionage-are-the-best\">Modern-day spying: sometimes old technology is more secure</a><span class=\"sitebit comhead\"> (<a href=\"from?site=economist.com\"><span class=\"sitestr\">economist.com</span></a>)</span></span></td></tr><tr><td colspan=\"2\"></td><td class=\"subtext\"><span class=\"subline\">\\n          <span class=\"score\" id=\"score_40899487\">127 points</span> by <a href=\"user?id=hilux\" class=\"hnuser\">hilux</a> <span class=\"age\" title=\"2024-07-07T18:32:57\"><a href=\"item?id=40899487\">11 hours ago</a></span> <span id=\"unv_40899487\"></span> | <a href=\"hide?id=40899487&amp;goto=news\">hide</a> | <a href=\"item?id=40899487\">82&nbsp;comments</a>        </span>\\n              </td></tr>\\n      <tr class=\"spacer\" style=\"height:5px\"></tr>\\n                <tr class=\\'athing\\' id=\\'40899761\\'>\\n      <td align=\"right\" valign=\"top\" class=\"title\"><span class=\"rank\">29.</span></td>      <td valign=\"top\" class=\"votelinks\"><center><a id=\\'up_40899761\\' href=\\'vote?id=40899761&amp;how=up&amp;goto=news\\'><div class=\\'votearrow\\' title=\\'upvote\\'></div></a></center></td><td class=\"title\"><span class=\"titleline\"><a href=\"https://samkriss.substack.com/p/the-internet-is-already-over\">The internet is already over (2022)</a><span class=\"sitebit comhead\"> (<a href=\"from?site=samkriss.substack.com\"><span class=\"sitestr\">samkriss.substack.com</span></a>)</span></span></td></tr><tr><td colspan=\"2\"></td><td class=\"subtext\"><span class=\"subline\">\\n          <span class=\"score\" id=\"score_40899761\">171 points</span> by <a href=\"user?id=thinkingemote\" class=\"hnuser\">thinkingemote</a> <span class=\"age\" title=\"2024-07-07T19:17:56\"><a href=\"item?id=40899761\">10 hours ago</a></span> <span id=\"unv_40899761\"></span> | <a href=\"hide?id=40899761&amp;goto=news\">hide</a> | <a href=\"item?id=40899761\">124&nbsp;comments</a>        </span>\\n              </td></tr>\\n      <tr class=\"spacer\" style=\"height:5px\"></tr>\\n                <tr class=\\'athing\\' id=\\'40897205\\'>\\n      <td align=\"right\" valign=\"top\" class=\"title\"><span class=\"rank\">30.</span></td>      <td valign=\"top\" class=\"votelinks\"><center><a id=\\'up_40897205\\' href=\\'vote?id=40897205&amp;how=up&amp;goto=news\\'><div class=\\'votearrow\\' title=\\'upvote\\'></div></a></center></td><td class=\"title\"><span class=\"titleline\"><a href=\"https://frontendmasters.com/blog/youtube-embeds-are-bananas-heavy-and-its-fixable/\">YouTube embeds are heavy and it’s fixable</a><span class=\"sitebit comhead\"> (<a href=\"from?site=frontendmasters.com\"><span class=\"sitestr\">frontendmasters.com</span></a>)</span></span></td></tr><tr><td colspan=\"2\"></td><td class=\"subtext\"><span class=\"subline\">\\n          <span class=\"score\" id=\"score_40897205\">326 points</span> by <a href=\"user?id=surprisetalk\" class=\"hnuser\">surprisetalk</a> <span class=\"age\" title=\"2024-07-07T12:37:55\"><a href=\"item?id=40897205\">17 hours ago</a></span> <span id=\"unv_40897205\"></span> | <a href=\"hide?id=40897205&amp;goto=news\">hide</a> | <a href=\"item?id=40897205\">205&nbsp;comments</a>        </span>\\n              </td></tr>\\n      <tr class=\"spacer\" style=\"height:5px\"></tr>\\n            <tr class=\"morespace\" style=\"height:10px\"></tr><tr><td colspan=\"2\"></td>\\n      <td class=\\'title\\'><a href=\\'?p=2\\' class=\\'morelink\\' rel=\\'next\\'>More</a></td>    </tr>\\n  </table>\\n</td></tr>\\n<tr><td><img src=\"s.gif\" height=\"10\" width=\"0\"><table width=\"100%\" cellspacing=\"0\" cellpadding=\"1\"><tr><td bgcolor=\"#ff6600\"></td></tr></table><br>\\n<center><span class=\"yclinks\"><a href=\"newsguidelines.html\">Guidelines</a> | <a href=\"newsfaq.html\">FAQ</a> | <a href=\"lists\">Lists</a> | <a href=\"https://github.com/HackerNews/API\">API</a> | <a href=\"security.html\">Security</a> | <a href=\"https://www.ycombinator.com/legal/\">Legal</a> | <a href=\"https://www.ycombinator.com/apply/\">Apply to YC</a> | <a href=\"mailto:hn@ycombinator.com\">Contact</a></span><br><br>\\n<form method=\"get\" action=\"//hn.algolia.com/\">Search: <input type=\"text\" name=\"q\" size=\"17\" autocorrect=\"off\" spellcheck=\"false\" autocapitalize=\"off\" autocomplete=\"off\"></form></center></td></tr>      </table></center></body>\\n      <script type=\\'text/javascript\\' src=\\'hn.js?R7jsl2afegR0OYqMgZfx\\'></script>\\n  </html>\\n'"
            ],
            "application/vnd.google.colaboratory.intrinsic+json": {
              "type": "string"
            }
          },
          "metadata": {},
          "execution_count": 37
        }
      ]
    },
    {
      "cell_type": "code",
      "source": [
        "# 웹 페이지 데이터를 soup 객체에 담기\n",
        "yc_web_page = response.text\n",
        "soup = BeautifulSoup(yc_web_page, \"html.parser\")\n",
        "print(soup.title.getText())"
      ],
      "metadata": {
        "colab": {
          "base_uri": "https://localhost:8080/"
        },
        "id": "fwJ_OH8R_7qN",
        "outputId": "4400d197-73c6-47c0-eeb0-75c0d2bea1d6"
      },
      "execution_count": 38,
      "outputs": [
        {
          "output_type": "stream",
          "name": "stdout",
          "text": [
            "Hacker News\n"
          ]
        }
      ]
    },
    {
      "cell_type": "code",
      "source": [
        "# 기사 정보 출력하기\n",
        "article_tag = soup.find(name=\"span\", class_=\"titleline\")\n",
        "print(article_tag.a)"
      ],
      "metadata": {
        "colab": {
          "base_uri": "https://localhost:8080/"
        },
        "id": "kaGyGdVlAm8c",
        "outputId": "2c514e0a-4d43-4ce8-b2c6-60ea154fff50"
      },
      "execution_count": 39,
      "outputs": [
        {
          "output_type": "stream",
          "name": "stdout",
          "text": [
            "<a href=\"https://brooker.co.za/misc-blog/2024/01/23/skis.html\">Do Skis Get Blunt?</a>\n"
          ]
        }
      ]
    },
    {
      "cell_type": "code",
      "source": [
        "# 기사 제목 출력하기\n",
        "article_text = article_tag.a.getText()\n",
        "print(article_text)"
      ],
      "metadata": {
        "colab": {
          "base_uri": "https://localhost:8080/"
        },
        "id": "2wLA7G6yA7xR",
        "outputId": "406b5699-0821-41b2-8bf9-38a3052163d3"
      },
      "execution_count": 40,
      "outputs": [
        {
          "output_type": "stream",
          "name": "stdout",
          "text": [
            "Do Skis Get Blunt?\n"
          ]
        }
      ]
    },
    {
      "cell_type": "code",
      "source": [
        "# 기사 URL 출력하기\n",
        "article_link = article_tag.a.get(\"href\")\n",
        "print(article_link)"
      ],
      "metadata": {
        "colab": {
          "base_uri": "https://localhost:8080/"
        },
        "id": "URW8yykaBwO_",
        "outputId": "70a69c08-b263-4150-95ce-334763960995"
      },
      "execution_count": 41,
      "outputs": [
        {
          "output_type": "stream",
          "name": "stdout",
          "text": [
            "https://brooker.co.za/misc-blog/2024/01/23/skis.html\n"
          ]
        }
      ]
    },
    {
      "cell_type": "code",
      "source": [
        "# 기사 추천 수 출력하기\n",
        "article_upvote = soup.find(name=\"span\", class_=\"score\").getText()\n",
        "print(article_upvote)"
      ],
      "metadata": {
        "colab": {
          "base_uri": "https://localhost:8080/"
        },
        "id": "pbSwRL5cFg4F",
        "outputId": "26213560-377a-409d-ed92-9fa71226847d"
      },
      "execution_count": 42,
      "outputs": [
        {
          "output_type": "stream",
          "name": "stdout",
          "text": [
            "37 points\n"
          ]
        }
      ]
    },
    {
      "cell_type": "code",
      "source": [
        "# 모든 기사 정보 출력하기\n",
        "articles = soup.find_all(name=\"span\", class_=\"titleline\")\n",
        "print(articles)"
      ],
      "metadata": {
        "colab": {
          "base_uri": "https://localhost:8080/"
        },
        "id": "_0rInQnlF19O",
        "outputId": "6a8b0277-eb52-4235-e4d1-8be623b62c54"
      },
      "execution_count": 44,
      "outputs": [
        {
          "output_type": "stream",
          "name": "stdout",
          "text": [
            "[<span class=\"titleline\"><a href=\"https://brooker.co.za/misc-blog/2024/01/23/skis.html\">Do Skis Get Blunt?</a><span class=\"sitebit comhead\"> (<a href=\"from?site=brooker.co.za\"><span class=\"sitestr\">brooker.co.za</span></a>)</span></span>, <span class=\"titleline\"><a href=\"https://dgerrells.com/blog/how-fast-is-javascript-simulating-20-000-000-particles\">Show HN: Simulating 20M Particles in JavaScript</a><span class=\"sitebit comhead\"> (<a href=\"from?site=dgerrells.com\"><span class=\"sitestr\">dgerrells.com</span></a>)</span></span>, <span class=\"titleline\"><a href=\"https://satyrn.app/\">Show HN: A modern Jupyter client for macOS</a><span class=\"sitebit comhead\"> (<a href=\"from?site=satyrn.app\"><span class=\"sitestr\">satyrn.app</span></a>)</span></span>, <span class=\"titleline\"><a href=\"https://arxiv.org/abs/2407.02678\">Reasoning in Large Language Models: A Geometric Perspective</a><span class=\"sitebit comhead\"> (<a href=\"from?site=arxiv.org\"><span class=\"sitestr\">arxiv.org</span></a>)</span></span>, <span class=\"titleline\"><a href=\"http://www.righto.com/2024/07/pentium-standard-cells.html\">Standard cells: Looking at individual gates in the Pentium processor</a><span class=\"sitebit comhead\"> (<a href=\"from?site=righto.com\"><span class=\"sitestr\">righto.com</span></a>)</span></span>, <span class=\"titleline\"><a href=\"https://spectrum.ieee.org/detect-migrating-birds-with-sound\">Detect Migrating Birds with a Plastic Dish and a Cheap Microphone</a><span class=\"sitebit comhead\"> (<a href=\"from?site=ieee.org\"><span class=\"sitestr\">ieee.org</span></a>)</span></span>, <span class=\"titleline\"><a href=\"https://notes.eatonphil.com/2024-07-07-systems-meetups.html\">A reawakening of systems programming meetups</a><span class=\"sitebit comhead\"> (<a href=\"from?site=eatonphil.com\"><span class=\"sitestr\">eatonphil.com</span></a>)</span></span>, <span class=\"titleline\"><a href=\"https://learn.microsoft.com/en-us/windows/powertoys/run\">PowerToys Run: extensible quick launcher for power users</a><span class=\"sitebit comhead\"> (<a href=\"from?site=microsoft.com\"><span class=\"sitestr\">microsoft.com</span></a>)</span></span>, <span class=\"titleline\"><a href=\"https://www.advancedsciencenews.com/tiny-robots-with-a-big-impact-scientists-develop-microrobots-for-single-cell-handling/\">Tiny robots with a big impact: microrobots for single-cell handling</a><span class=\"sitebit comhead\"> (<a href=\"from?site=advancedsciencenews.com\"><span class=\"sitestr\">advancedsciencenews.com</span></a>)</span></span>, <span class=\"titleline\"><a href=\"https://old.reddit.com/r/programming/comments/1dxmroj/zed_editor_automatically_downloads_binaries_and/\" rel=\"nofollow\">Zed Editor automatically downloads binaries and NPM packages without consent</a><span class=\"sitebit comhead\"> (<a href=\"from?site=reddit.com\"><span class=\"sitestr\">reddit.com</span></a>)</span></span>, <span class=\"titleline\"><a href=\"https://github.com/virtualsquare/vde-2\">VDEv2: Virtual Distributed Ethernet</a><span class=\"sitebit comhead\"> (<a href=\"from?site=github.com/virtualsquare\"><span class=\"sitestr\">github.com/virtualsquare</span></a>)</span></span>, <span class=\"titleline\"><a href=\"https://github.com/KwaiVGI/LivePortrait\">LivePortrait: A fast, controllable portrait animation model</a><span class=\"sitebit comhead\"> (<a href=\"from?site=github.com/kwaivgi\"><span class=\"sitestr\">github.com/kwaivgi</span></a>)</span></span>, <span class=\"titleline\"><a href=\"https://bolides.seti.org/\">Interactive Bolide Data Visualizer</a><span class=\"sitebit comhead\"> (<a href=\"from?site=seti.org\"><span class=\"sitestr\">seti.org</span></a>)</span></span>, <span class=\"titleline\"><a href=\"https://github.com/event-driven-io/Pongo\">Mongo but on Postgres and with strong consistency benefits</a><span class=\"sitebit comhead\"> (<a href=\"from?site=github.com/event-driven-io\"><span class=\"sitestr\">github.com/event-driven-io</span></a>)</span></span>, <span class=\"titleline\"><a href=\"https://alien-project.gitbook.io/docs\">Artificial LIfe ENvironment (ALIEN) is an artificial life simulation tool</a><span class=\"sitebit comhead\"> (<a href=\"from?site=gitbook.io\"><span class=\"sitestr\">gitbook.io</span></a>)</span></span>, <span class=\"titleline\"><a href=\"https://unit.software/\">Unit is a general purpose visual programming system</a><span class=\"sitebit comhead\"> (<a href=\"from?site=unit.software\"><span class=\"sitestr\">unit.software</span></a>)</span></span>, <span class=\"titleline\"><a href=\"https://hbr.org/2005/01/managing-oneself\">Managing Oneself (2005)</a><span class=\"sitebit comhead\"> (<a href=\"from?site=hbr.org\"><span class=\"sitestr\">hbr.org</span></a>)</span></span>, <span class=\"titleline\"><a href=\"https://jdh.hamkins.org/how-ch-could-have-been-fundamental/\">How the continuum hypothesis could have been a fundamental axiom</a><span class=\"sitebit comhead\"> (<a href=\"from?site=hamkins.org\"><span class=\"sitestr\">hamkins.org</span></a>)</span></span>, <span class=\"titleline\"><a href=\"https://beacondb.net/\">Show HN: BeaconDB – An Alternative to Mozilla Location Services</a><span class=\"sitebit comhead\"> (<a href=\"from?site=beacondb.net\"><span class=\"sitestr\">beacondb.net</span></a>)</span></span>, <span class=\"titleline\"><a href=\"https://github.com/sebastianwessel/quickjs\">Show HN: Execute JavaScript in a WebAssembly QuickJS sandbox</a><span class=\"sitebit comhead\"> (<a href=\"from?site=github.com/sebastianwessel\"><span class=\"sitestr\">github.com/sebastianwessel</span></a>)</span></span>, <span class=\"titleline\"><a href=\"https://www.ycombinator.com/companies/continue/jobs/smcxRnM-full-stack-engineer\">Continue (YC S23) Is Hiring a Full-Stack Engineer in San Francisco</a><span class=\"sitebit comhead\"> (<a href=\"from?site=ycombinator.com\"><span class=\"sitestr\">ycombinator.com</span></a>)</span></span>, <span class=\"titleline\"><a href=\"https://noamzeise.com/2024/07/05/mini-monitor.html\" rel=\"nofollow\">A Mini Monitor for a Pi</a><span class=\"sitebit comhead\"> (<a href=\"from?site=noamzeise.com\"><span class=\"sitestr\">noamzeise.com</span></a>)</span></span>, <span class=\"titleline\"><a href=\"https://github.com/ElliotKillick/rss2newsletter\">Show HN: I made an open source Mailchimp RSS-to-Email alternative</a><span class=\"sitebit comhead\"> (<a href=\"from?site=github.com/elliotkillick\"><span class=\"sitestr\">github.com/elliotkillick</span></a>)</span></span>, <span class=\"titleline\"><a href=\"https://github.com/mathialo/bython\">Python with Braces</a><span class=\"sitebit comhead\"> (<a href=\"from?site=github.com/mathialo\"><span class=\"sitestr\">github.com/mathialo</span></a>)</span></span>, <span class=\"titleline\"><a href=\"https://leancrew.com/all-this/2024/07/numeronymize/\">Numeronymize</a><span class=\"sitebit comhead\"> (<a href=\"from?site=leancrew.com\"><span class=\"sitestr\">leancrew.com</span></a>)</span></span>, <span class=\"titleline\"><a href=\"https://royalsocietypublishing.org/doi/10.1098/rstb.2018.0372\">A brief history of liquid computers (2019)</a><span class=\"sitebit comhead\"> (<a href=\"from?site=royalsocietypublishing.org\"><span class=\"sitestr\">royalsocietypublishing.org</span></a>)</span></span>, <span class=\"titleline\"><a href=\"https://github.com/pythops/impala\">TUI for Managing WiFi on Linux</a><span class=\"sitebit comhead\"> (<a href=\"from?site=github.com/pythops\"><span class=\"sitestr\">github.com/pythops</span></a>)</span></span>, <span class=\"titleline\"><a href=\"https://www.economist.com/technology-quarterly/2024/07/01/sometimes-the-old-ways-of-espionage-are-the-best\">Modern-day spying: sometimes old technology is more secure</a><span class=\"sitebit comhead\"> (<a href=\"from?site=economist.com\"><span class=\"sitestr\">economist.com</span></a>)</span></span>, <span class=\"titleline\"><a href=\"https://samkriss.substack.com/p/the-internet-is-already-over\">The internet is already over (2022)</a><span class=\"sitebit comhead\"> (<a href=\"from?site=samkriss.substack.com\"><span class=\"sitestr\">samkriss.substack.com</span></a>)</span></span>, <span class=\"titleline\"><a href=\"https://frontendmasters.com/blog/youtube-embeds-are-bananas-heavy-and-its-fixable/\">YouTube embeds are heavy and it’s fixable</a><span class=\"sitebit comhead\"> (<a href=\"from?site=frontendmasters.com\"><span class=\"sitestr\">frontendmasters.com</span></a>)</span></span>]\n"
          ]
        }
      ]
    },
    {
      "cell_type": "code",
      "source": [
        "# 모든 기사의 제목과 URL 주소 출력 하기\n",
        "article_texts=[]\n",
        "article_links=[]\n",
        "\n",
        "for article_tag in articles:\n",
        "  text=article_tag.a.getText()\n",
        "  link=article_tag.a.get(\"href\")\n",
        "  article_texts.append(text)\n",
        "  article_links.append(link)\n",
        "\n",
        "print(article_texts)\n",
        "print(article_links)"
      ],
      "metadata": {
        "colab": {
          "base_uri": "https://localhost:8080/"
        },
        "id": "2Ntd-M58GUCi",
        "outputId": "1cae87f7-b0d3-47b6-fd84-23f58a0ea7ad"
      },
      "execution_count": 46,
      "outputs": [
        {
          "output_type": "stream",
          "name": "stdout",
          "text": [
            "['Do Skis Get Blunt?', 'Show HN: Simulating 20M Particles in JavaScript', 'Show HN: A modern Jupyter client for macOS', 'Reasoning in Large Language Models: A Geometric Perspective', 'Standard cells: Looking at individual gates in the Pentium processor', 'Detect Migrating Birds with a Plastic Dish and a Cheap Microphone', 'A reawakening of systems programming meetups', 'PowerToys Run: extensible quick launcher for power users', 'Tiny robots with a big impact: microrobots for single-cell handling', 'Zed Editor automatically downloads binaries and NPM packages without consent', 'VDEv2: Virtual Distributed Ethernet', 'LivePortrait: A fast, controllable portrait animation model', 'Interactive Bolide Data Visualizer', 'Mongo but on Postgres and with strong consistency benefits', 'Artificial LIfe ENvironment (ALIEN) is an artificial life simulation tool', 'Unit is a general purpose visual programming system', 'Managing Oneself (2005)', 'How the continuum hypothesis could have been a fundamental axiom', 'Show HN: BeaconDB – An Alternative to Mozilla Location Services', 'Show HN: Execute JavaScript in a WebAssembly QuickJS sandbox', 'Continue (YC S23) Is Hiring a Full-Stack Engineer in San Francisco', 'A Mini Monitor for a Pi', 'Show HN: I made an open source Mailchimp RSS-to-Email alternative', 'Python with Braces', 'Numeronymize', 'A brief history of liquid computers (2019)', 'TUI for Managing WiFi on Linux', 'Modern-day spying: sometimes old technology is more secure', 'The internet is already over (2022)', 'YouTube embeds are heavy and it’s fixable']\n",
            "['https://brooker.co.za/misc-blog/2024/01/23/skis.html', 'https://dgerrells.com/blog/how-fast-is-javascript-simulating-20-000-000-particles', 'https://satyrn.app/', 'https://arxiv.org/abs/2407.02678', 'http://www.righto.com/2024/07/pentium-standard-cells.html', 'https://spectrum.ieee.org/detect-migrating-birds-with-sound', 'https://notes.eatonphil.com/2024-07-07-systems-meetups.html', 'https://learn.microsoft.com/en-us/windows/powertoys/run', 'https://www.advancedsciencenews.com/tiny-robots-with-a-big-impact-scientists-develop-microrobots-for-single-cell-handling/', 'https://old.reddit.com/r/programming/comments/1dxmroj/zed_editor_automatically_downloads_binaries_and/', 'https://github.com/virtualsquare/vde-2', 'https://github.com/KwaiVGI/LivePortrait', 'https://bolides.seti.org/', 'https://github.com/event-driven-io/Pongo', 'https://alien-project.gitbook.io/docs', 'https://unit.software/', 'https://hbr.org/2005/01/managing-oneself', 'https://jdh.hamkins.org/how-ch-could-have-been-fundamental/', 'https://beacondb.net/', 'https://github.com/sebastianwessel/quickjs', 'https://www.ycombinator.com/companies/continue/jobs/smcxRnM-full-stack-engineer', 'https://noamzeise.com/2024/07/05/mini-monitor.html', 'https://github.com/ElliotKillick/rss2newsletter', 'https://github.com/mathialo/bython', 'https://leancrew.com/all-this/2024/07/numeronymize/', 'https://royalsocietypublishing.org/doi/10.1098/rstb.2018.0372', 'https://github.com/pythops/impala', 'https://www.economist.com/technology-quarterly/2024/07/01/sometimes-the-old-ways-of-espionage-are-the-best', 'https://samkriss.substack.com/p/the-internet-is-already-over', 'https://frontendmasters.com/blog/youtube-embeds-are-bananas-heavy-and-its-fixable/']\n"
          ]
        }
      ]
    },
    {
      "cell_type": "code",
      "source": [
        "# 모든 기사의 추천 수 출력하기\n",
        "article_upvote=[score.getText() for score in soup.find_all(name=\"span\", class_=\"score\")]\n",
        "print(article_upvote)"
      ],
      "metadata": {
        "colab": {
          "base_uri": "https://localhost:8080/"
        },
        "id": "VSQkTZueHMM7",
        "outputId": "eecf6914-a23a-4160-d324-396123530d0b"
      },
      "execution_count": 48,
      "outputs": [
        {
          "output_type": "stream",
          "name": "stdout",
          "text": [
            "['37 points', '157 points', '379 points', '145 points', '134 points', '67 points', '281 points', '18 points', '27 points', '7 points', '63 points', '123 points', '17 points', '216 points', '136 points', '42 points', '76 points', '54 points', '200 points', '160 points', '19 points', '66 points', '126 points', '46 points', '33 points', '33 points', '127 points', '171 points', '326 points']\n"
          ]
        }
      ]
    },
    {
      "cell_type": "code",
      "source": [
        "int(article_upvote[0].split()[0])"
      ],
      "metadata": {
        "colab": {
          "base_uri": "https://localhost:8080/"
        },
        "id": "HdzDmtK7ILHP",
        "outputId": "ddcdfe9d-8c79-4e74-ecb5-ca592af0950b"
      },
      "execution_count": 51,
      "outputs": [
        {
          "output_type": "execute_result",
          "data": {
            "text/plain": [
              "37"
            ]
          },
          "metadata": {},
          "execution_count": 51
        }
      ]
    },
    {
      "cell_type": "code",
      "source": [
        "article_upvote=[int(score.getText().split()[0]) for score in soup.find_all(name=\"span\", class_=\"score\")]\n",
        "print(article_upvote)"
      ],
      "metadata": {
        "colab": {
          "base_uri": "https://localhost:8080/"
        },
        "id": "q0-ZwJp3IeIS",
        "outputId": "1ef485d5-d6ed-4dca-986a-1f85538cc480"
      },
      "execution_count": 60,
      "outputs": [
        {
          "output_type": "stream",
          "name": "stdout",
          "text": [
            "[37, 157, 379, 145, 134, 67, 281, 18, 27, 7, 63, 123, 17, 216, 136, 42, 76, 54, 200, 160, 19, 66, 126, 46, 33, 33, 127, 171, 326]\n"
          ]
        }
      ]
    },
    {
      "cell_type": "code",
      "source": [
        "# 추천을 가장 많이 받은 기사의 제목과 URL 출력하기\n",
        "lagest_number=max(article_upvote)\n",
        "print(lagest_number)"
      ],
      "metadata": {
        "colab": {
          "base_uri": "https://localhost:8080/"
        },
        "id": "giyLDrFtIjFT",
        "outputId": "d6b1214e-7282-4b38-979f-dd714c8cbdde"
      },
      "execution_count": 61,
      "outputs": [
        {
          "output_type": "stream",
          "name": "stdout",
          "text": [
            "379\n"
          ]
        }
      ]
    },
    {
      "cell_type": "code",
      "source": [
        "lagest_index=article_upvote.index(lagest_number)\n",
        "print(lagest_index)"
      ],
      "metadata": {
        "colab": {
          "base_uri": "https://localhost:8080/"
        },
        "id": "w_-JSyqKJ5Ll",
        "outputId": "2b11a6c1-5c6e-4f49-845f-5c4b4da01344"
      },
      "execution_count": 63,
      "outputs": [
        {
          "output_type": "stream",
          "name": "stdout",
          "text": [
            "2\n"
          ]
        }
      ]
    },
    {
      "cell_type": "code",
      "source": [
        "print(article_texts[lagest_index])\n",
        "print(article_links[lagest_index])\n",
        "print(article_upvote[lagest_index])"
      ],
      "metadata": {
        "colab": {
          "base_uri": "https://localhost:8080/"
        },
        "id": "QOV5iWx7KB2P",
        "outputId": "7329e65f-02f1-4e8d-fec5-c7f065b09a78"
      },
      "execution_count": 65,
      "outputs": [
        {
          "output_type": "stream",
          "name": "stdout",
          "text": [
            "Show HN: A modern Jupyter client for macOS\n",
            "https://satyrn.app/\n",
            "379\n"
          ]
        }
      ]
    }
  ]
}